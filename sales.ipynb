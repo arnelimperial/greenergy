{
 "cells": [
  {
   "cell_type": "markdown",
   "id": "cb6fae1d-236e-416c-bf94-8a7ce89a9b14",
   "metadata": {},
   "source": [
    "# Data Cleaning on Online Sales Data"
   ]
  },
  {
   "cell_type": "markdown",
   "id": "0a3394d4-5fef-4829-a8e4-5b95d19acabf",
   "metadata": {},
   "source": [
    "The [dataset](https://www.kaggle.com/datasets/arnavsmayan/online-retail-sales-dataset) will provide synthetic data for online retail sales, which include details of customer transactions and orders with regard to the involved items, their quantities, prices, discounts, methods of payment, and the customers' demographics for analysis in terms of buying behavior, sales trend, inventory management, and marketing strategy."
   ]
  },
  {
   "cell_type": "code",
   "execution_count": 1,
   "id": "cb35f1f2-5416-42a2-8d17-b1fc987b3e92",
   "metadata": {},
   "outputs": [],
   "source": [
    "import pandas as pd\n",
    "import numpy as np\n",
    "import dask.dataframe as dd\n",
    "import matplotlib.pyplot as plt\n",
    "%matplotlib inline\n",
    "import seaborn as sns\n",
    "from sklearn.preprocessing import StandardScaler, MinMaxScaler, PowerTransformer\n",
    "import statsmodels.api as sm\n",
    "from scipy.stats import shapiro, normaltest, levene, zscore"
   ]
  },
  {
   "cell_type": "code",
   "execution_count": 2,
   "id": "04e4a277-d520-4c8b-8f3f-59f71932919a",
   "metadata": {},
   "outputs": [],
   "source": [
    "# Set visual display settings\n",
    "sns.set(style='whitegrid')"
   ]
  },
  {
   "cell_type": "markdown",
   "id": "61842450-44ac-4b1e-88ae-5fe1ba1b4e1d",
   "metadata": {},
   "source": [
    "## Load CSV"
   ]
  },
  {
   "cell_type": "code",
   "execution_count": 3,
   "id": "9f73a9fc-4940-432f-a12f-2c3d50377390",
   "metadata": {},
   "outputs": [],
   "source": [
    "init_df = dd.read_csv('online_retail_sales_dataset.csv')"
   ]
  },
  {
   "cell_type": "code",
   "execution_count": 4,
   "id": "24d0452d-4a1f-4f14-b33d-03635530d902",
   "metadata": {},
   "outputs": [],
   "source": [
    "# Computed data\n",
    "computed_df = init_df.compute()\n",
    "\n",
    "# initialize variables\n",
    "# specify numeric columns\n",
    "numeric_columns = init_df.select_dtypes(include=['int64', 'float64']).columns\n",
    "\n",
    "# specify columns to eliminate\n",
    "columns_to_exclude = ['transaction_id', 'customer_id', 'product_id']\n",
    "\n",
    "# columns for usual numeric process\n",
    "cols_to_process = ['quantity', 'price', 'discount', 'customer_age', 'total_amount']\n",
    "\n",
    "# filter out the specified numeric columns\n",
    "filtered_numeric_columns = [col for col in numeric_columns if col not in columns_to_exclude]\n",
    "\n",
    "# DF of numeric columns to process\n",
    "filtered_numeric_df = computed_df[filtered_numeric_columns]\n",
    "\n",
    "selected_numeric_cols = init_df[filtered_numeric_columns]"
   ]
  },
  {
   "cell_type": "code",
   "execution_count": 5,
   "id": "11d05354-9c04-4f14-9545-766f87a7e912",
   "metadata": {},
   "outputs": [
    {
     "data": {
      "text/html": [
       "<div>\n",
       "<style scoped>\n",
       "    .dataframe tbody tr th:only-of-type {\n",
       "        vertical-align: middle;\n",
       "    }\n",
       "\n",
       "    .dataframe tbody tr th {\n",
       "        vertical-align: top;\n",
       "    }\n",
       "\n",
       "    .dataframe thead th {\n",
       "        text-align: right;\n",
       "    }\n",
       "</style>\n",
       "<table border=\"1\" class=\"dataframe\">\n",
       "  <thead>\n",
       "    <tr style=\"text-align: right;\">\n",
       "      <th></th>\n",
       "      <th>transaction_id</th>\n",
       "      <th>timestamp</th>\n",
       "      <th>customer_id</th>\n",
       "      <th>product_id</th>\n",
       "      <th>product_category</th>\n",
       "      <th>quantity</th>\n",
       "      <th>price</th>\n",
       "      <th>discount</th>\n",
       "      <th>payment_method</th>\n",
       "      <th>customer_age</th>\n",
       "      <th>customer_gender</th>\n",
       "      <th>customer_location</th>\n",
       "      <th>total_amount</th>\n",
       "    </tr>\n",
       "  </thead>\n",
       "  <tbody>\n",
       "    <tr>\n",
       "      <th>0</th>\n",
       "      <td>1</td>\n",
       "      <td>2023-01-01 00:00:00</td>\n",
       "      <td>1993</td>\n",
       "      <td>915</td>\n",
       "      <td>Home &amp; Kitchen</td>\n",
       "      <td>8</td>\n",
       "      <td>103.30</td>\n",
       "      <td>0.23</td>\n",
       "      <td>Gift Card</td>\n",
       "      <td>27</td>\n",
       "      <td>Female</td>\n",
       "      <td>North America</td>\n",
       "      <td>636.33</td>\n",
       "    </tr>\n",
       "    <tr>\n",
       "      <th>1</th>\n",
       "      <td>2</td>\n",
       "      <td>2023-01-01 00:01:00</td>\n",
       "      <td>3474</td>\n",
       "      <td>553</td>\n",
       "      <td>Clothing</td>\n",
       "      <td>9</td>\n",
       "      <td>180.28</td>\n",
       "      <td>0.31</td>\n",
       "      <td>Gift Card</td>\n",
       "      <td>53</td>\n",
       "      <td>Other</td>\n",
       "      <td>South America</td>\n",
       "      <td>1119.54</td>\n",
       "    </tr>\n",
       "    <tr>\n",
       "      <th>2</th>\n",
       "      <td>3</td>\n",
       "      <td>2023-01-01 00:02:00</td>\n",
       "      <td>4564</td>\n",
       "      <td>248</td>\n",
       "      <td>Beauty &amp; Personal Care</td>\n",
       "      <td>7</td>\n",
       "      <td>81.58</td>\n",
       "      <td>0.27</td>\n",
       "      <td>Debit Card</td>\n",
       "      <td>34</td>\n",
       "      <td>Other</td>\n",
       "      <td>North America</td>\n",
       "      <td>416.87</td>\n",
       "    </tr>\n",
       "    <tr>\n",
       "      <th>3</th>\n",
       "      <td>4</td>\n",
       "      <td>2023-01-01 00:03:00</td>\n",
       "      <td>1133</td>\n",
       "      <td>948</td>\n",
       "      <td>Clothing</td>\n",
       "      <td>3</td>\n",
       "      <td>235.20</td>\n",
       "      <td>0.00</td>\n",
       "      <td>Debit Card</td>\n",
       "      <td>50</td>\n",
       "      <td>Other</td>\n",
       "      <td>Australia</td>\n",
       "      <td>705.60</td>\n",
       "    </tr>\n",
       "    <tr>\n",
       "      <th>4</th>\n",
       "      <td>5</td>\n",
       "      <td>2023-01-01 00:04:00</td>\n",
       "      <td>3626</td>\n",
       "      <td>284</td>\n",
       "      <td>Books</td>\n",
       "      <td>9</td>\n",
       "      <td>453.00</td>\n",
       "      <td>0.34</td>\n",
       "      <td>Credit Card</td>\n",
       "      <td>23</td>\n",
       "      <td>Female</td>\n",
       "      <td>Australia</td>\n",
       "      <td>2690.82</td>\n",
       "    </tr>\n",
       "  </tbody>\n",
       "</table>\n",
       "</div>"
      ],
      "text/plain": [
       "   transaction_id            timestamp  customer_id  product_id  \\\n",
       "0               1  2023-01-01 00:00:00         1993         915   \n",
       "1               2  2023-01-01 00:01:00         3474         553   \n",
       "2               3  2023-01-01 00:02:00         4564         248   \n",
       "3               4  2023-01-01 00:03:00         1133         948   \n",
       "4               5  2023-01-01 00:04:00         3626         284   \n",
       "\n",
       "         product_category  quantity   price  discount payment_method  \\\n",
       "0          Home & Kitchen         8  103.30      0.23      Gift Card   \n",
       "1                Clothing         9  180.28      0.31      Gift Card   \n",
       "2  Beauty & Personal Care         7   81.58      0.27     Debit Card   \n",
       "3                Clothing         3  235.20      0.00     Debit Card   \n",
       "4                   Books         9  453.00      0.34    Credit Card   \n",
       "\n",
       "   customer_age customer_gender customer_location  total_amount  \n",
       "0            27          Female     North America        636.33  \n",
       "1            53           Other     South America       1119.54  \n",
       "2            34           Other     North America        416.87  \n",
       "3            50           Other         Australia        705.60  \n",
       "4            23          Female         Australia       2690.82  "
      ]
     },
     "execution_count": 5,
     "metadata": {},
     "output_type": "execute_result"
    }
   ],
   "source": [
    "# View first 5 rows\n",
    "init_df.head()"
   ]
  },
  {
   "cell_type": "markdown",
   "id": "a2007a75-7957-4828-96cb-7697f34c5e67",
   "metadata": {},
   "source": [
    "## DF Overview"
   ]
  },
  {
   "cell_type": "code",
   "execution_count": 6,
   "id": "842e74c6-b235-481b-8642-ac5587aa8fc6",
   "metadata": {},
   "outputs": [
    {
     "data": {
      "text/plain": [
       "transaction_id                 int64\n",
       "timestamp            string[pyarrow]\n",
       "customer_id                    int64\n",
       "product_id                     int64\n",
       "product_category     string[pyarrow]\n",
       "quantity                       int64\n",
       "price                        float64\n",
       "discount                     float64\n",
       "payment_method       string[pyarrow]\n",
       "customer_age                   int64\n",
       "customer_gender      string[pyarrow]\n",
       "customer_location    string[pyarrow]\n",
       "total_amount                 float64\n",
       "dtype: object"
      ]
     },
     "execution_count": 6,
     "metadata": {},
     "output_type": "execute_result"
    }
   ],
   "source": [
    "# Check datatypes of the column \n",
    "init_df.dtypes\n",
    "# there are 8 numeric & 5 non-numeric cols"
   ]
  },
  {
   "cell_type": "code",
   "execution_count": 7,
   "id": "fda81e26-9f29-4f32-90af-f2ecb1be307f",
   "metadata": {},
   "outputs": [
    {
     "name": "stdout",
     "output_type": "stream",
     "text": [
      "Number of rows: 1000000, Number of columns: 13\n"
     ]
    }
   ],
   "source": [
    "# get the number of rows\n",
    "dataset_rows = init_df.shape[0].compute()\n",
    "# get the number of columns\n",
    "dataset_cols = init_df.columns.size\n",
    "print(f\"Number of rows: {dataset_rows}, Number of columns: {dataset_cols}\")"
   ]
  },
  {
   "cell_type": "code",
   "execution_count": 8,
   "id": "c5ab4af5-71f5-44b6-b463-6ade2dbe14f6",
   "metadata": {},
   "outputs": [
    {
     "data": {
      "text/plain": [
       "13000000"
      ]
     },
     "execution_count": 8,
     "metadata": {},
     "output_type": "execute_result"
    }
   ],
   "source": [
    "# get the total number of elements\n",
    "init_df.size.compute()"
   ]
  },
  {
   "cell_type": "code",
   "execution_count": 9,
   "id": "bea85711-3f14-4473-a5d1-7368c92b9962",
   "metadata": {},
   "outputs": [
    {
     "data": {
      "text/plain": [
       "1"
      ]
     },
     "execution_count": 9,
     "metadata": {},
     "output_type": "execute_result"
    }
   ],
   "source": [
    "# get the number of partitions\n",
    "init_df.npartitions"
   ]
  },
  {
   "cell_type": "code",
   "execution_count": 10,
   "id": "daddb966-21e2-4cd6-a0a4-cdd379034764",
   "metadata": {},
   "outputs": [
    {
     "data": {
      "text/html": [
       "<div>\n",
       "<style scoped>\n",
       "    .dataframe tbody tr th:only-of-type {\n",
       "        vertical-align: middle;\n",
       "    }\n",
       "\n",
       "    .dataframe tbody tr th {\n",
       "        vertical-align: top;\n",
       "    }\n",
       "\n",
       "    .dataframe thead th {\n",
       "        text-align: right;\n",
       "    }\n",
       "</style>\n",
       "<table border=\"1\" class=\"dataframe\">\n",
       "  <thead>\n",
       "    <tr style=\"text-align: right;\">\n",
       "      <th></th>\n",
       "      <th>quantity</th>\n",
       "      <th>price</th>\n",
       "      <th>discount</th>\n",
       "      <th>customer_age</th>\n",
       "      <th>total_amount</th>\n",
       "    </tr>\n",
       "  </thead>\n",
       "  <tbody>\n",
       "    <tr>\n",
       "      <th>count</th>\n",
       "      <td>1000000.000000</td>\n",
       "      <td>1000000.000000</td>\n",
       "      <td>1000000.000000</td>\n",
       "      <td>1000000.000000</td>\n",
       "      <td>1000000.000000</td>\n",
       "    </tr>\n",
       "    <tr>\n",
       "      <th>mean</th>\n",
       "      <td>5.003086</td>\n",
       "      <td>252.445705</td>\n",
       "      <td>0.250204</td>\n",
       "      <td>43.508625</td>\n",
       "      <td>946.839858</td>\n",
       "    </tr>\n",
       "    <tr>\n",
       "      <th>std</th>\n",
       "      <td>2.581004</td>\n",
       "      <td>142.868633</td>\n",
       "      <td>0.144384</td>\n",
       "      <td>15.007346</td>\n",
       "      <td>810.902205</td>\n",
       "    </tr>\n",
       "    <tr>\n",
       "      <th>min</th>\n",
       "      <td>1.000000</td>\n",
       "      <td>5.000000</td>\n",
       "      <td>0.000000</td>\n",
       "      <td>18.000000</td>\n",
       "      <td>2.560000</td>\n",
       "    </tr>\n",
       "    <tr>\n",
       "      <th>25%</th>\n",
       "      <td>3.000000</td>\n",
       "      <td>128.690000</td>\n",
       "      <td>0.130000</td>\n",
       "      <td>31.000000</td>\n",
       "      <td>297.180000</td>\n",
       "    </tr>\n",
       "    <tr>\n",
       "      <th>50%</th>\n",
       "      <td>5.000000</td>\n",
       "      <td>252.700000</td>\n",
       "      <td>0.250000</td>\n",
       "      <td>44.000000</td>\n",
       "      <td>715.710000</td>\n",
       "    </tr>\n",
       "    <tr>\n",
       "      <th>75%</th>\n",
       "      <td>7.000000</td>\n",
       "      <td>375.990000</td>\n",
       "      <td>0.380000</td>\n",
       "      <td>57.000000</td>\n",
       "      <td>1397.750000</td>\n",
       "    </tr>\n",
       "    <tr>\n",
       "      <th>max</th>\n",
       "      <td>9.000000</td>\n",
       "      <td>500.000000</td>\n",
       "      <td>0.500000</td>\n",
       "      <td>69.000000</td>\n",
       "      <td>4496.130000</td>\n",
       "    </tr>\n",
       "  </tbody>\n",
       "</table>\n",
       "</div>"
      ],
      "text/plain": [
       "             quantity           price        discount    customer_age  \\\n",
       "count  1000000.000000  1000000.000000  1000000.000000  1000000.000000   \n",
       "mean         5.003086      252.445705        0.250204       43.508625   \n",
       "std          2.581004      142.868633        0.144384       15.007346   \n",
       "min          1.000000        5.000000        0.000000       18.000000   \n",
       "25%          3.000000      128.690000        0.130000       31.000000   \n",
       "50%          5.000000      252.700000        0.250000       44.000000   \n",
       "75%          7.000000      375.990000        0.380000       57.000000   \n",
       "max          9.000000      500.000000        0.500000       69.000000   \n",
       "\n",
       "         total_amount  \n",
       "count  1000000.000000  \n",
       "mean       946.839858  \n",
       "std        810.902205  \n",
       "min          2.560000  \n",
       "25%        297.180000  \n",
       "50%        715.710000  \n",
       "75%       1397.750000  \n",
       "max       4496.130000  "
      ]
     },
     "execution_count": 10,
     "metadata": {},
     "output_type": "execute_result"
    }
   ],
   "source": [
    "# Descriptive stat of selected numeric columns\n",
    "init_df[['quantity', 'price', 'discount', \n",
    "         'customer_age', 'total_amount']].describe().compute()"
   ]
  },
  {
   "cell_type": "markdown",
   "id": "e3c88a90-e69c-4bfa-9fbf-7e4eccb71e8e",
   "metadata": {},
   "source": [
    "## Data Cleaning"
   ]
  },
  {
   "cell_type": "markdown",
   "id": "e7744b77-9961-4df4-9949-f3b6e92246c6",
   "metadata": {},
   "source": [
    "### Standardizing Format: Explicit Data Type Conversion\n",
    "\n",
    "[Explicitly defining data types for your columns ensures consistency, prevents implicit conversions, enhances performance, and avoids errors during analysis](https://www.geeksforgeeks.org/explicitly-define-datatype-in-a-python-function/.). This practice is crucial for large datasets or collaborative work. However, if you're confident in your data's structure or only conducting exploratory analysis, explicit type definitions may not be necessary."
   ]
  },
  {
   "cell_type": "code",
   "execution_count": 11,
   "id": "8208ffdb-d2d7-4850-8172-ebaca4da7f65",
   "metadata": {},
   "outputs": [],
   "source": [
    "init_df['customer_id'] = init_df['customer_id'].astype('int64')  # Ensure customer_id is integer type\n",
    "init_df['transaction_id'] = init_df['transaction_id'].astype('int64') \n",
    "init_df['product_id'] = init_df['product_id'].astype('int64') \n",
    "\n",
    "init_df['quantity'] = init_df['quantity'].astype('int64')\n",
    "init_df['price'] = init_df['price'].astype('float64') \n",
    "init_df['discount'] = init_df['discount'].astype('float64')  \n",
    "init_df['customer_age'] = init_df['customer_age'].astype('int64')\n",
    "init_df['total_amount'] = init_df['total_amount'].astype('float64')\n",
    "\n",
    "init_df['timestamp'] = init_df['timestamp'].astype('string[pyarrow]')  \n",
    "init_df['product_category'] = init_df['product_category'].astype('string[pyarrow]')  \n",
    "init_df['payment_method'] = init_df['payment_method'].astype('string[pyarrow]')  \n",
    "init_df['customer_gender'] = init_df['customer_gender'].astype('string[pyarrow]')  \n",
    "init_df['customer_location'] = init_df['customer_location'].astype('string[pyarrow]')  \n"
   ]
  },
  {
   "cell_type": "code",
   "execution_count": 12,
   "id": "54cb782c-e110-4888-a755-fcebe24565b9",
   "metadata": {},
   "outputs": [
    {
     "data": {
      "text/plain": [
       "transaction_id                 int64\n",
       "timestamp            string[pyarrow]\n",
       "customer_id                    int64\n",
       "product_id                     int64\n",
       "product_category     string[pyarrow]\n",
       "quantity                       int64\n",
       "price                        float64\n",
       "discount                     float64\n",
       "payment_method       string[pyarrow]\n",
       "customer_age                   int64\n",
       "customer_gender      string[pyarrow]\n",
       "customer_location    string[pyarrow]\n",
       "total_amount                 float64\n",
       "dtype: object"
      ]
     },
     "execution_count": 12,
     "metadata": {},
     "output_type": "execute_result"
    }
   ],
   "source": [
    "# check again the data types\n",
    "init_df.dtypes"
   ]
  },
  {
   "cell_type": "markdown",
   "id": "9d1a51b3-6919-42df-a986-3eadad743732",
   "metadata": {},
   "source": [
    "### Standardizing Format: Formatting Timestamp\n",
    "\n",
    "[In the Philippines, the recommended timestamp format conforms to the ISO 8601 standard](https://en.wikipedia.org/wiki/Date_and_time_notation_in_the_Philippines#:~:text=Date%20and%20time%20notation%20in%20the%20Philippines%20varies%20across%20the%20country%20in%20various%2C%20customary%20formats.%20Some%20government%20agencies%20in%20the%20Philippines%20have%20adopted,Multi%2DPurpose%20ID.), which prescribes the format as `YYYY-MM-DD` for dates and utilizes the 24-hour clock format for times, resulting in a complete representation such as 2023-01-01T00:02:00. This standardization enhances clarity and mitigates ambiguity in datetime notation, making it appropriate for legal and technical applications.\n",
    "\n",
    "Our group formatted the timestamp column to ISO 8601 utilizing the 24-hour clock format for times and created another `df['date']` for timestamp without 24-hour clock format `(YYYY-MM-DD)`."
   ]
  },
  {
   "cell_type": "code",
   "execution_count": 13,
   "id": "71e9caa4-c689-4bef-a057-66c346ea0359",
   "metadata": {},
   "outputs": [],
   "source": [
    "# ISO 8601 utilizes the 24-hour clock format for times\n",
    "init_df['timestamp'] = dd.to_datetime(init_df['timestamp']).dt.strftime('%Y-%m-%dT%H:%M:%S')\n",
    "computed_df['timestamp'] = dd.to_datetime(computed_df['timestamp']).dt.strftime('%Y-%m-%dT%H:%M:%S')\n",
    "\n",
    "# ISO 8601 with date only\n",
    "init_df['date'] = dd.to_datetime(init_df['timestamp']).dt.date\n",
    "computed_df['date'] = dd.to_datetime(computed_df['timestamp']).dt.date"
   ]
  },
  {
   "cell_type": "code",
   "execution_count": 14,
   "id": "75155f30-87c9-4f8b-bae9-b6115c8d80a4",
   "metadata": {},
   "outputs": [
    {
     "data": {
      "text/html": [
       "<div>\n",
       "<style scoped>\n",
       "    .dataframe tbody tr th:only-of-type {\n",
       "        vertical-align: middle;\n",
       "    }\n",
       "\n",
       "    .dataframe tbody tr th {\n",
       "        vertical-align: top;\n",
       "    }\n",
       "\n",
       "    .dataframe thead th {\n",
       "        text-align: right;\n",
       "    }\n",
       "</style>\n",
       "<table border=\"1\" class=\"dataframe\">\n",
       "  <thead>\n",
       "    <tr style=\"text-align: right;\">\n",
       "      <th></th>\n",
       "      <th>transaction_id</th>\n",
       "      <th>timestamp</th>\n",
       "      <th>customer_id</th>\n",
       "      <th>product_id</th>\n",
       "      <th>product_category</th>\n",
       "      <th>quantity</th>\n",
       "      <th>price</th>\n",
       "      <th>discount</th>\n",
       "      <th>payment_method</th>\n",
       "      <th>customer_age</th>\n",
       "      <th>customer_gender</th>\n",
       "      <th>customer_location</th>\n",
       "      <th>total_amount</th>\n",
       "      <th>date</th>\n",
       "    </tr>\n",
       "  </thead>\n",
       "  <tbody>\n",
       "    <tr>\n",
       "      <th>999995</th>\n",
       "      <td>999996</td>\n",
       "      <td>2024-11-25T10:35:00</td>\n",
       "      <td>1324</td>\n",
       "      <td>833</td>\n",
       "      <td>Clothing</td>\n",
       "      <td>9</td>\n",
       "      <td>318.66</td>\n",
       "      <td>0.30</td>\n",
       "      <td>PayPal</td>\n",
       "      <td>58</td>\n",
       "      <td>Other</td>\n",
       "      <td>Asia</td>\n",
       "      <td>2007.56</td>\n",
       "      <td>2024-11-25</td>\n",
       "    </tr>\n",
       "    <tr>\n",
       "      <th>999996</th>\n",
       "      <td>999997</td>\n",
       "      <td>2024-11-25T10:36:00</td>\n",
       "      <td>3671</td>\n",
       "      <td>260</td>\n",
       "      <td>Books</td>\n",
       "      <td>7</td>\n",
       "      <td>283.78</td>\n",
       "      <td>0.30</td>\n",
       "      <td>Credit Card</td>\n",
       "      <td>32</td>\n",
       "      <td>Male</td>\n",
       "      <td>North America</td>\n",
       "      <td>1390.52</td>\n",
       "      <td>2024-11-25</td>\n",
       "    </tr>\n",
       "    <tr>\n",
       "      <th>999997</th>\n",
       "      <td>999998</td>\n",
       "      <td>2024-11-25T10:37:00</td>\n",
       "      <td>3651</td>\n",
       "      <td>293</td>\n",
       "      <td>Electronics</td>\n",
       "      <td>8</td>\n",
       "      <td>418.59</td>\n",
       "      <td>0.42</td>\n",
       "      <td>Gift Card</td>\n",
       "      <td>19</td>\n",
       "      <td>Male</td>\n",
       "      <td>Australia</td>\n",
       "      <td>1942.26</td>\n",
       "      <td>2024-11-25</td>\n",
       "    </tr>\n",
       "    <tr>\n",
       "      <th>999998</th>\n",
       "      <td>999999</td>\n",
       "      <td>2024-11-25T10:38:00</td>\n",
       "      <td>3253</td>\n",
       "      <td>534</td>\n",
       "      <td>Home &amp; Kitchen</td>\n",
       "      <td>6</td>\n",
       "      <td>258.94</td>\n",
       "      <td>0.13</td>\n",
       "      <td>Credit Card</td>\n",
       "      <td>38</td>\n",
       "      <td>Other</td>\n",
       "      <td>North America</td>\n",
       "      <td>1351.67</td>\n",
       "      <td>2024-11-25</td>\n",
       "    </tr>\n",
       "    <tr>\n",
       "      <th>999999</th>\n",
       "      <td>1000000</td>\n",
       "      <td>2024-11-25T10:39:00</td>\n",
       "      <td>3337</td>\n",
       "      <td>826</td>\n",
       "      <td>Electronics</td>\n",
       "      <td>9</td>\n",
       "      <td>76.06</td>\n",
       "      <td>0.47</td>\n",
       "      <td>Gift Card</td>\n",
       "      <td>59</td>\n",
       "      <td>Male</td>\n",
       "      <td>North America</td>\n",
       "      <td>362.81</td>\n",
       "      <td>2024-11-25</td>\n",
       "    </tr>\n",
       "  </tbody>\n",
       "</table>\n",
       "</div>"
      ],
      "text/plain": [
       "        transaction_id            timestamp  customer_id  product_id  \\\n",
       "999995          999996  2024-11-25T10:35:00         1324         833   \n",
       "999996          999997  2024-11-25T10:36:00         3671         260   \n",
       "999997          999998  2024-11-25T10:37:00         3651         293   \n",
       "999998          999999  2024-11-25T10:38:00         3253         534   \n",
       "999999         1000000  2024-11-25T10:39:00         3337         826   \n",
       "\n",
       "       product_category  quantity   price  discount payment_method  \\\n",
       "999995         Clothing         9  318.66      0.30         PayPal   \n",
       "999996            Books         7  283.78      0.30    Credit Card   \n",
       "999997      Electronics         8  418.59      0.42      Gift Card   \n",
       "999998   Home & Kitchen         6  258.94      0.13    Credit Card   \n",
       "999999      Electronics         9   76.06      0.47      Gift Card   \n",
       "\n",
       "        customer_age customer_gender customer_location  total_amount  \\\n",
       "999995            58           Other              Asia       2007.56   \n",
       "999996            32            Male     North America       1390.52   \n",
       "999997            19            Male         Australia       1942.26   \n",
       "999998            38           Other     North America       1351.67   \n",
       "999999            59            Male     North America        362.81   \n",
       "\n",
       "              date  \n",
       "999995  2024-11-25  \n",
       "999996  2024-11-25  \n",
       "999997  2024-11-25  \n",
       "999998  2024-11-25  \n",
       "999999  2024-11-25  "
      ]
     },
     "execution_count": 14,
     "metadata": {},
     "output_type": "execute_result"
    }
   ],
   "source": [
    "# check the formatting the created columns\n",
    "init_df.tail()"
   ]
  },
  {
   "cell_type": "code",
   "execution_count": 15,
   "id": "390cf78d-68a4-4714-a8cb-3cc30b22955b",
   "metadata": {},
   "outputs": [
    {
     "name": "stdout",
     "output_type": "stream",
     "text": [
      "Updated number of columns: 14\n"
     ]
    }
   ],
   "source": [
    "# check nuo. of columns\n",
    "dataset_cols = init_df.columns.size\n",
    "print(f'Updated number of columns: {dataset_cols}')"
   ]
  },
  {
   "cell_type": "markdown",
   "id": "29d599aa-be81-430f-8b76-f19da0752f6a",
   "metadata": {},
   "source": [
    "### Handling Missisng Values"
   ]
  },
  {
   "cell_type": "code",
   "execution_count": 16,
   "id": "5b25f815-7349-45c6-acbd-1671a2e24a6c",
   "metadata": {},
   "outputs": [
    {
     "data": {
      "text/plain": [
       "transaction_id       0\n",
       "timestamp            0\n",
       "customer_id          0\n",
       "product_id           0\n",
       "product_category     0\n",
       "quantity             0\n",
       "price                0\n",
       "discount             0\n",
       "payment_method       0\n",
       "customer_age         0\n",
       "customer_gender      0\n",
       "customer_location    0\n",
       "total_amount         0\n",
       "date                 0\n",
       "dtype: int64"
      ]
     },
     "execution_count": 16,
     "metadata": {},
     "output_type": "execute_result"
    }
   ],
   "source": [
    "# identify columns with missing values\n",
    "computed_df.isnull().sum()\n",
    "# DF has no NAN"
   ]
  },
  {
   "cell_type": "markdown",
   "id": "b01b27e0-5b7f-4d8b-8e23-bb3fecb804f4",
   "metadata": {},
   "source": [
    "**Suggestions if missing values are present**\n",
    "\n",
    "For numeric column:\n",
    "\n",
    "`df['col'] = df['col'].fillna(0)`\n",
    "\n",
    "Option to fill missing values in a specific column with the mean:\n",
    "\n",
    "`df['price'].fillna(df['price'].mean(), inplace=True)`\n",
    "For non-numeric columns replace with appropriate string:\n",
    "\n",
    "`df['col'] = df['col'].fillna('blah!')`\n",
    "\n",
    "Option to fill missing values in a specific column with the mean:\n",
    "\n",
    "`df['price'].fillna(df['price'].mean(), inplace=True)`\n",
    "\n",
    "**Rationale**: Handling missing values ensures comprehensive datasets, reducing biases during analysis. This practice allows for better data integrity and improved predictive performance.</p>"
   ]
  },
  {
   "cell_type": "markdown",
   "id": "1dfd11a1-6800-4cce-9b38-f35e2764fa58",
   "metadata": {},
   "source": [
    "### Handling Duplicate Rows\n",
    "\n",
    "<b>Suggestion if there are duplicate rows</b>\n",
    "\n",
    "Remove duplicate rows\n",
    "```python\n",
    "original_df = original_df.drop_duplicates()\n",
    "```\n",
    "\n",
    "**Rationale**: By eliminating duplicates, data clarity is enhanced, allowing for more accurate insights from analyses.\n"
   ]
  },
  {
   "cell_type": "code",
   "execution_count": null,
   "id": "11bb9809-73ad-41a5-9221-aa3ad76812d7",
   "metadata": {},
   "outputs": [],
   "source": []
  },
  {
   "cell_type": "code",
   "execution_count": 17,
   "id": "18f39051-09aa-4f6e-9bbb-533a58eafc32",
   "metadata": {},
   "outputs": [
    {
     "data": {
      "text/plain": [
       "np.int64(0)"
      ]
     },
     "execution_count": 17,
     "metadata": {},
     "output_type": "execute_result"
    }
   ],
   "source": [
    "# check for duplicate rows\n",
    "computed_df.duplicated().sum()\n",
    "# DF has no duplicate rows"
   ]
  },
  {
   "cell_type": "markdown",
   "id": "919a0e6a-b6dc-426d-bf92-ca5c7d195bd3",
   "metadata": {},
   "source": [
    "### Visualizing the Data Distribution"
   ]
  },
  {
   "cell_type": "code",
   "execution_count": 18,
   "id": "0575b0cc-2645-467e-9f7f-686e0704ffa1",
   "metadata": {},
   "outputs": [
    {
     "data": {
      "image/png": "[encoded data removed]",
      "text/plain": [
       "<Figure size 1000x1000 with 9 Axes>"
      ]
     },
     "metadata": {},
     "output_type": "display_data"
    }
   ],
   "source": [
    "# Histogram for all numerical features\n",
    "computed_df.hist(figsize=(10, 10), bins=30)\n",
    "plt.title('Distribution of Numerical Features')\n",
    "plt.show()"
   ]
  },
  {
   "cell_type": "code",
   "execution_count": 19,
   "id": "c53df5f2-2f9b-4f47-b928-5b4fa91fabf4",
   "metadata": {},
   "outputs": [
    {
     "data": {
      "image/png": "[encoded data removed]",
      "text/plain": [
       "<Figure size 700x900 with 5 Axes>"
      ]
     },
     "metadata": {},
     "output_type": "display_data"
    }
   ],
   "source": [
    "# Boxplot for a specific numerical column\n",
    "# Set overall figure size for the plots\n",
    "ncols = 2  # Number of columns\n",
    "nrows = (len(cols_to_process) + ncols - 1) // ncols  # Calculate rows needed\n",
    "\n",
    "plt.figure(figsize=(7, nrows * 3))  # Adjust height based on the number of rows\n",
    "\n",
    "# Create boxplots for each selected column\n",
    "for i, column in enumerate(cols_to_process):\n",
    "    plt.subplot(nrows, ncols, i + 1)  # Adjusts the number of rows and columns for subplots\n",
    "    sns.boxplot(data=computed_df, y=column)\n",
    "    plt.title(f'Boxplot of {column}')\n",
    "    plt.tight_layout()  # Adjust layout to prevent overlap\n",
    "\n",
    "plt.show()"
   ]
  },
  {
   "cell_type": "markdown",
   "id": "ab3ede14-56ac-4162-bcc4-a81654748516",
   "metadata": {},
   "source": [
    "[In a boxplot, the presence of a black mark at the maximum quantile typically represents the maximum value of the dataset](https://www.statology.org/how-to-read-box-plot-with-outliers/), excluding outliers.​ This mark indicates the highest observation that falls within a defined range, providing insight into the data distribution and helping to visualize its spread. No usually how outliers looks like, but it can be, as it is outside the whiskers of both ends."
   ]
  },
  {
   "cell_type": "markdown",
   "id": "bd13c3ad-ac07-4f44-abc5-c51f48be4516",
   "metadata": {},
   "source": [
    "### Outlier Detection & Deletion"
   ]
  },
  {
   "cell_type": "markdown",
   "id": "543b68de-8473-4f3c-9af6-545cb38f3ccf",
   "metadata": {},
   "source": [
    "**Definition of Quartiles**:\n",
    "\n",
    "- Q1 (First Quartile): This is the 25th percentile of the data, meaning that 25% of the data points are below this value.\n",
    "- Q3 (Third Quartile): This is the 75th percentile, indicating that 75% of the data points are below this value.\n",
    "\n",
    "**Calculating IQR**:\n",
    "\n",
    "- The Interquartile Range (IQR) is calculated as:\n",
    "```bash\n",
    "IQR = Q3 - Q1\n",
    "```\n",
    "\n",
    "- The IQR represents the range within which the central 50% of the data points lie.\n",
    "\n",
    "**Identifying Outliers**:\n",
    "\n",
    "- Outliers are defined as any data points that fall below `Q1 − 1.5 * IQR` or above `Q3 + 1.5 * IQR`.\n",
    "- Once outliers are identified, they can be removed from the dataset to ensure that subsequent analyses are not skewed by these extreme values."
   ]
  },
  {
   "cell_type": "code",
   "execution_count": 21,
   "id": "49615e57-6b34-485b-90c2-7f23772a02c4",
   "metadata": {},
   "outputs": [],
   "source": [
    "def count_outliers_iqr(dataframe, columns):\n",
    "    outlier_counts = {}\n",
    "    for column in columns:\n",
    "        # Calculate Q1 (25th percentile) and Q3 (75th percentile)\n",
    "        Q1 = dataframe[column].quantile(0.25)\n",
    "        Q3 = dataframe[column].quantile(0.75)\n",
    "        IQR = Q3 - Q1\n",
    "        \n",
    "        # Define the outlier boundaries\n",
    "        lower_bound = Q1 - 1.5 * IQR\n",
    "        upper_bound = Q3 + 1.5 * IQR\n",
    "        \n",
    "        # Count the outliers\n",
    "        outliers = dataframe[(dataframe[column] < lower_bound) | (dataframe[column] > upper_bound)]\n",
    "        outlier_counts[column] = outliers.shape[0]  # Number of outliers\n",
    "    \n",
    "    return outlier_counts\n",
    "\n",
    "# Count outliers in the specified numeric columns\n",
    "outlier_counts = count_outliers_iqr(computed_df, cols_to_process)"
   ]
  },
  {
   "cell_type": "code",
   "execution_count": 22,
   "id": "a09093b1-992e-435b-95ad-657bf388a607",
   "metadata": {},
   "outputs": [
    {
     "name": "stdout",
     "output_type": "stream",
     "text": [
      "{'quantity': 0, 'price': 0, 'discount': 0, 'customer_age': 0, 'total_amount': 21985}\n"
     ]
    }
   ],
   "source": [
    "print(outlier_counts)"
   ]
  },
  {
   "cell_type": "code",
   "execution_count": 49,
   "id": "b4ccbdd6-82d7-4321-a446-ab46f7def85d",
   "metadata": {},
   "outputs": [],
   "source": [
    "def remove_outliers_iqr(df, numeric_columns):\n",
    "    df_filtered = df.copy()\n",
    "\n",
    "    # For each numeric column, Q1 and Q3 are calculated using quantile(), and then IQR is computed.\n",
    "    \n",
    "    for column in numeric_columns:\n",
    "        Q1 = df_filtered[column].quantile(0.25)  # First quartile (25th percentile)\n",
    "        Q3 = df_filtered[column].quantile(0.75)  # Third quartile (75th percentile)\n",
    "        IQR = Q3 - Q1  # Interquartile range\n",
    "        \n",
    "        # Define bounds for outliers\n",
    "        # The lower and upper bounds for identifying outliers are established.\n",
    "        lower_bound = Q1 - 1.5 * IQR\n",
    "        upper_bound = Q3 + 1.5 * IQR\n",
    "        \n",
    "        # Remove outliers\n",
    "        # Rows containing outliers are removed based on these bounds\n",
    "        df_filtered = df_filtered[(df_filtered[column] >= lower_bound) & (df_filtered[column] <= upper_bound)]\n",
    "\n",
    "    # Cleaned DataFrame without outliers is returned\n",
    "    return df_filtered\n",
    "\n",
    "computed_df = remove_outliers_iqr(computed_df, cols_to_process)\n",
    "\n",
    "# Caveat: must run this function several times to remove the outlier completely\n",
    "\n",
    "outlier_counts = count_outliers_iqr(computed_df, cols_to_process)"
   ]
  },
  {
   "cell_type": "code",
   "execution_count": 50,
   "id": "ef99c7bd-1b8a-44ee-ae83-759c4f974e5e",
   "metadata": {},
   "outputs": [
    {
     "name": "stdout",
     "output_type": "stream",
     "text": [
      "{'quantity': 0, 'price': 0, 'discount': 0, 'customer_age': 0, 'total_amount': 0}\n"
     ]
    }
   ],
   "source": [
    "print(outlier_counts)"
   ]
  },
  {
   "cell_type": "code",
   "execution_count": 51,
   "id": "e9137622-7233-47f2-9f34-3feeea46c8fa",
   "metadata": {},
   "outputs": [],
   "source": [
    "# Updating the DF of numeric columns to process\n",
    "filtered_numeric_df = computed_df[filtered_numeric_columns]"
   ]
  },
  {
   "cell_type": "code",
   "execution_count": 52,
   "id": "0c8b133e-c54f-441a-b2ba-5c20aaafb1a0",
   "metadata": {},
   "outputs": [
    {
     "data": {
      "image/png": "[encoded data removed]",
      "text/plain": [
       "<Figure size 400x400 with 1 Axes>"
      ]
     },
     "metadata": {},
     "output_type": "display_data"
    }
   ],
   "source": [
    "# Boxplot to confirm the removal of outlier\n",
    "plt.figure(figsize=(4,4))\n",
    "sns.boxplot(y='total_amount', data=filtered_numeric_df)  # Replace 'sepal_length' with your variable of interest\n",
    "sns.boxplot(y='total_amount', data=filtered_numeric_df, color='lightblue')\n",
    "plt.title('Boxplot of total amount')\n",
    "plt.show()"
   ]
  },
  {
   "cell_type": "code",
   "execution_count": 53,
   "id": "9e65ddc9-854f-442c-82ee-d329cebbe9dd",
   "metadata": {},
   "outputs": [
    {
     "data": {
      "text/plain": [
       "(968218, 14)"
      ]
     },
     "execution_count": 53,
     "metadata": {},
     "output_type": "execute_result"
    }
   ],
   "source": [
    "# confirm the number of rows\n",
    "computed_df.shape"
   ]
  },
  {
   "cell_type": "markdown",
   "id": "f5ef82e3-0e9b-4686-ba19-cc867eb576ea",
   "metadata": {},
   "source": [
    "**Rationale**: Outlier management assures the robustness of analyses, as they can detrimentally affect interpretations and model accuracy. Ensure that the dataset has enough data points after removing outliers; if too many rows are removed, consider adjusting the IQR multiplier or using alternative methods like Z-score or robust statistical techniques."
   ]
  },
  {
   "cell_type": "code",
   "execution_count": null,
   "id": "c2317ceb-15f3-4c49-9872-471f5fc53233",
   "metadata": {},
   "outputs": [],
   "source": []
  },
  {
   "cell_type": "code",
   "execution_count": null,
   "id": "d4511f67-9991-4334-a1f9-28130e4a1f58",
   "metadata": {},
   "outputs": [],
   "source": []
  },
  {
   "cell_type": "code",
   "execution_count": null,
   "id": "a0b6e702-43b6-415a-82a7-20f244645294",
   "metadata": {},
   "outputs": [],
   "source": []
  },
  {
   "cell_type": "code",
   "execution_count": null,
   "id": "500872f0-c8fb-461b-8ac8-5a137352ee06",
   "metadata": {},
   "outputs": [],
   "source": []
  },
  {
   "cell_type": "code",
   "execution_count": null,
   "id": "8d128bfc-377d-472f-bde9-c40cbcb7e8ae",
   "metadata": {},
   "outputs": [],
   "source": []
  }
 ],
 "metadata": {
  "kernelspec": {
   "display_name": "Python 3 (ipykernel)",
   "language": "python",
   "name": "python3"
  },
  "language_info": {
   "codemirror_mode": {
    "name": "ipython",
    "version": 3
   },
   "file_extension": ".py",
   "mimetype": "text/x-python",
   "name": "python",
   "nbconvert_exporter": "python",
   "pygments_lexer": "ipython3",
   "version": "3.9.6"
  }
 },
 "nbformat": 4,
 "nbformat_minor": 5
}
