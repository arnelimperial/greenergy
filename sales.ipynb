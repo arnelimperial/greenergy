{
 "cells": [
  {
   "cell_type": "markdown",
   "id": "19d0fd3f-c94c-4c09-b304-76ef67fcba89",
   "metadata": {},
   "source": [
    "<h2>EDA on Online Sales Data</h2>"
   ]
  },
  {
   "cell_type": "code",
   "execution_count": 31,
   "id": "88e7c572-f908-4c1a-97cf-29470586a465",
   "metadata": {},
   "outputs": [],
   "source": [
    "import pandas as pd\n",
    "import numpy as np\n",
    "import seaborn as sns\n",
    "import matplotlib.pyplot as plt\n",
    "%matplotlib inline"
   ]
  },
  {
   "cell_type": "raw",
   "id": "c10fd955-6cc4-4da0-babf-d9754d3788b2",
   "metadata": {},
   "source": []
  },
  {
   "cell_type": "code",
   "execution_count": null,
   "id": "df8a1c46-02aa-4d1c-9534-bf2ac45a2bc3",
   "metadata": {},
   "outputs": [],
   "source": []
  },
  {
   "cell_type": "code",
   "execution_count": 32,
   "id": "45699dbf-ee3b-4896-b12e-1d79887460a3",
   "metadata": {},
   "outputs": [],
   "source": [
    "# Set visual display settings\n",
    "sns.set(style='whitegrid')"
   ]
  },
  {
   "cell_type": "code",
   "execution_count": 33,
   "id": "26d2c33b-4d36-42dc-a06a-1d60c903b8f0",
   "metadata": {},
   "outputs": [],
   "source": [
    "## load csv\n",
    "df = pd.read_csv('https://query.data.world/s/mk2674xbgxftbqgrlwd7u2aps2pmrm?dws=00000')"
   ]
  },
  {
   "cell_type": "code",
   "execution_count": 34,
   "id": "c2e05705-239b-4022-acfd-17736a9069be",
   "metadata": {},
   "outputs": [
    {
     "data": {
      "text/html": [
       "<div>\n",
       "<style scoped>\n",
       "    .dataframe tbody tr th:only-of-type {\n",
       "        vertical-align: middle;\n",
       "    }\n",
       "\n",
       "    .dataframe tbody tr th {\n",
       "        vertical-align: top;\n",
       "    }\n",
       "\n",
       "    .dataframe thead th {\n",
       "        text-align: right;\n",
       "    }\n",
       "</style>\n",
       "<table border=\"1\" class=\"dataframe\">\n",
       "  <thead>\n",
       "    <tr style=\"text-align: right;\">\n",
       "      <th></th>\n",
       "      <th>Transaction ID</th>\n",
       "      <th>Date</th>\n",
       "      <th>Product Category</th>\n",
       "      <th>Product Name</th>\n",
       "      <th>Units Sold</th>\n",
       "      <th>Unit Price</th>\n",
       "      <th>Total Revenue</th>\n",
       "      <th>Region</th>\n",
       "      <th>Payment Method</th>\n",
       "    </tr>\n",
       "  </thead>\n",
       "  <tbody>\n",
       "    <tr>\n",
       "      <th>0</th>\n",
       "      <td>10001</td>\n",
       "      <td>2024-01-01</td>\n",
       "      <td>Electronics</td>\n",
       "      <td>iPhone 14 Pro</td>\n",
       "      <td>2</td>\n",
       "      <td>999.99</td>\n",
       "      <td>1999.98</td>\n",
       "      <td>North America</td>\n",
       "      <td>Credit Card</td>\n",
       "    </tr>\n",
       "    <tr>\n",
       "      <th>1</th>\n",
       "      <td>10002</td>\n",
       "      <td>2024-01-02</td>\n",
       "      <td>Home Appliances</td>\n",
       "      <td>Dyson V11 Vacuum</td>\n",
       "      <td>1</td>\n",
       "      <td>499.99</td>\n",
       "      <td>499.99</td>\n",
       "      <td>Europe</td>\n",
       "      <td>PayPal</td>\n",
       "    </tr>\n",
       "    <tr>\n",
       "      <th>2</th>\n",
       "      <td>10003</td>\n",
       "      <td>2024-01-03</td>\n",
       "      <td>Clothing</td>\n",
       "      <td>Levi's 501 Jeans</td>\n",
       "      <td>3</td>\n",
       "      <td>69.99</td>\n",
       "      <td>209.97</td>\n",
       "      <td>Asia</td>\n",
       "      <td>Debit Card</td>\n",
       "    </tr>\n",
       "    <tr>\n",
       "      <th>3</th>\n",
       "      <td>10004</td>\n",
       "      <td>2024-01-04</td>\n",
       "      <td>Books</td>\n",
       "      <td>The Da Vinci Code</td>\n",
       "      <td>4</td>\n",
       "      <td>15.99</td>\n",
       "      <td>63.96</td>\n",
       "      <td>North America</td>\n",
       "      <td>Credit Card</td>\n",
       "    </tr>\n",
       "    <tr>\n",
       "      <th>4</th>\n",
       "      <td>10005</td>\n",
       "      <td>2024-01-05</td>\n",
       "      <td>Beauty Products</td>\n",
       "      <td>Neutrogena Skincare Set</td>\n",
       "      <td>1</td>\n",
       "      <td>89.99</td>\n",
       "      <td>89.99</td>\n",
       "      <td>Europe</td>\n",
       "      <td>PayPal</td>\n",
       "    </tr>\n",
       "  </tbody>\n",
       "</table>\n",
       "</div>"
      ],
      "text/plain": [
       "   Transaction ID        Date Product Category             Product Name  \\\n",
       "0           10001  2024-01-01      Electronics            iPhone 14 Pro   \n",
       "1           10002  2024-01-02  Home Appliances         Dyson V11 Vacuum   \n",
       "2           10003  2024-01-03         Clothing         Levi's 501 Jeans   \n",
       "3           10004  2024-01-04            Books        The Da Vinci Code   \n",
       "4           10005  2024-01-05  Beauty Products  Neutrogena Skincare Set   \n",
       "\n",
       "   Units Sold  Unit Price  Total Revenue         Region Payment Method  \n",
       "0           2      999.99        1999.98  North America    Credit Card  \n",
       "1           1      499.99         499.99         Europe         PayPal  \n",
       "2           3       69.99         209.97           Asia     Debit Card  \n",
       "3           4       15.99          63.96  North America    Credit Card  \n",
       "4           1       89.99          89.99         Europe         PayPal  "
      ]
     },
     "execution_count": 34,
     "metadata": {},
     "output_type": "execute_result"
    }
   ],
   "source": [
    "df.head()"
   ]
  },
  {
   "cell_type": "code",
   "execution_count": null,
   "id": "95469a65-2b25-41c2-a959-ff4fe2242b63",
   "metadata": {},
   "outputs": [],
   "source": []
  },
  {
   "cell_type": "code",
   "execution_count": 35,
   "id": "cf087781-6663-412b-8823-dd4ba98a38bb",
   "metadata": {},
   "outputs": [
    {
     "name": "stdout",
     "output_type": "stream",
     "text": [
      "<class 'pandas.core.frame.DataFrame'>\n",
      "RangeIndex: 240 entries, 0 to 239\n",
      "Data columns (total 9 columns):\n",
      " #   Column            Non-Null Count  Dtype  \n",
      "---  ------            --------------  -----  \n",
      " 0   Transaction ID    240 non-null    int64  \n",
      " 1   Date              240 non-null    object \n",
      " 2   Product Category  240 non-null    object \n",
      " 3   Product Name      240 non-null    object \n",
      " 4   Units Sold        240 non-null    int64  \n",
      " 5   Unit Price        240 non-null    float64\n",
      " 6   Total Revenue     240 non-null    float64\n",
      " 7   Region            240 non-null    object \n",
      " 8   Payment Method    240 non-null    object \n",
      "dtypes: float64(2), int64(2), object(5)\n",
      "memory usage: 17.0+ KB\n"
     ]
    }
   ],
   "source": [
    "## df overview\n",
    "df.info()"
   ]
  },
  {
   "cell_type": "code",
   "execution_count": 36,
   "id": "e864fec9-bab9-4d9d-b938-f86799e8b341",
   "metadata": {},
   "outputs": [
    {
     "data": {
      "text/plain": [
       "(240, 9)"
      ]
     },
     "execution_count": 36,
     "metadata": {},
     "output_type": "execute_result"
    }
   ],
   "source": [
    "df.shape"
   ]
  },
  {
   "cell_type": "markdown",
   "id": "17b6e1d2-d7a7-43f7-a64f-cba9aa90a055",
   "metadata": {},
   "source": [
    "<h3>Duplicate rows</h3>"
   ]
  },
  {
   "cell_type": "code",
   "execution_count": 37,
   "id": "dd60d37c-be8a-4b39-a170-755c2edce19f",
   "metadata": {},
   "outputs": [
    {
     "data": {
      "text/plain": [
       "np.int64(0)"
      ]
     },
     "execution_count": 37,
     "metadata": {},
     "output_type": "execute_result"
    }
   ],
   "source": [
    "# check for duplicate rows\n",
    "df.duplicated().sum()"
   ]
  },
  {
   "cell_type": "code",
   "execution_count": 38,
   "id": "0b3c4379-923d-4318-a726-4b1ab4c35c22",
   "metadata": {},
   "outputs": [],
   "source": [
    "# remove duplicate rows\n",
    "df = df.drop_duplicates()"
   ]
  },
  {
   "cell_type": "code",
   "execution_count": null,
   "id": "d68562fa-def0-46af-8706-fd5bdca3b0f4",
   "metadata": {},
   "outputs": [],
   "source": []
  },
  {
   "cell_type": "markdown",
   "id": "50fc73fd-1573-4669-b304-5465f9dab92e",
   "metadata": {},
   "source": [
    "<h3>Handle missisng values</h3>"
   ]
  },
  {
   "cell_type": "code",
   "execution_count": 39,
   "id": "033a878e-3b25-4f40-9b2a-95a5bf696d26",
   "metadata": {},
   "outputs": [
    {
     "data": {
      "text/plain": [
       "Transaction ID      0\n",
       "Date                0\n",
       "Product Category    0\n",
       "Product Name        0\n",
       "Units Sold          0\n",
       "Unit Price          0\n",
       "Total Revenue       0\n",
       "Region              0\n",
       "Payment Method      0\n",
       "dtype: int64"
      ]
     },
     "execution_count": 39,
     "metadata": {},
     "output_type": "execute_result"
    }
   ],
   "source": [
    "# identify columns with missing values\n",
    "df.isnull().sum()"
   ]
  },
  {
   "cell_type": "code",
   "execution_count": 40,
   "id": "19e558c5-146d-4d80-89b9-8203cf06565d",
   "metadata": {},
   "outputs": [],
   "source": [
    "# for numeric column\n",
    "# df['col'] = df['col'].fillna(0)\n",
    "\n",
    "# for non-numer cols replace with appropriate string\n",
    "# df['col'] = df['col'].fillna('blah!')"
   ]
  },
  {
   "cell_type": "code",
   "execution_count": null,
   "id": "2bc59046-a0a0-481e-861f-8034827816b7",
   "metadata": {},
   "outputs": [],
   "source": []
  },
  {
   "cell_type": "markdown",
   "id": "0bc85229-9e54-4430-8fdc-58ae4ae21f18",
   "metadata": {},
   "source": [
    "<h3>Standardizing formats</h3>"
   ]
  },
  {
   "cell_type": "code",
   "execution_count": 43,
   "id": "de6b6bdd-d956-4fa3-8d0f-6c1de326731f",
   "metadata": {},
   "outputs": [],
   "source": [
    "# For Date col\n",
    "# Converting the date column with multiple formats\n",
    "df['Date'] = pd.to_datetime(df['Date'], format='%m/%d/%Y', errors='coerce')  # For MM/DD/YYYY\n",
    "df['Date'] = pd.to_datetime(df['Date'], format='%Y-%m-%d', errors='coerce')  # For YYYY-MM-DD\n",
    "df['Date'] = pd.to_datetime(df['Date'], format='%B %d, %Y', errors='coerce')  # For Month DD, YYYY\n",
    "\n",
    "# format (YYYY-MM-DD) ISO 8601\n",
    "df['Date'] = pd.to_datetime(df['Date'], format='%m/%d/%Y').dt.strftime('%Y-%m-%d')"
   ]
  },
  {
   "cell_type": "code",
   "execution_count": 42,
   "id": "382bb752-1ea9-487a-9dfd-8c23a44f9b5c",
   "metadata": {},
   "outputs": [
    {
     "data": {
      "text/html": [
       "<div>\n",
       "<style scoped>\n",
       "    .dataframe tbody tr th:only-of-type {\n",
       "        vertical-align: middle;\n",
       "    }\n",
       "\n",
       "    .dataframe tbody tr th {\n",
       "        vertical-align: top;\n",
       "    }\n",
       "\n",
       "    .dataframe thead th {\n",
       "        text-align: right;\n",
       "    }\n",
       "</style>\n",
       "<table border=\"1\" class=\"dataframe\">\n",
       "  <thead>\n",
       "    <tr style=\"text-align: right;\">\n",
       "      <th></th>\n",
       "      <th>Transaction ID</th>\n",
       "      <th>Date</th>\n",
       "      <th>Product Category</th>\n",
       "      <th>Product Name</th>\n",
       "      <th>Units Sold</th>\n",
       "      <th>Unit Price</th>\n",
       "      <th>Total Revenue</th>\n",
       "      <th>Region</th>\n",
       "      <th>Payment Method</th>\n",
       "    </tr>\n",
       "  </thead>\n",
       "  <tbody>\n",
       "    <tr>\n",
       "      <th>0</th>\n",
       "      <td>10001</td>\n",
       "      <td>2024-01-01</td>\n",
       "      <td>Electronics</td>\n",
       "      <td>iPhone 14 Pro</td>\n",
       "      <td>2</td>\n",
       "      <td>999.99</td>\n",
       "      <td>1999.98</td>\n",
       "      <td>North America</td>\n",
       "      <td>Credit Card</td>\n",
       "    </tr>\n",
       "    <tr>\n",
       "      <th>1</th>\n",
       "      <td>10002</td>\n",
       "      <td>2024-01-02</td>\n",
       "      <td>Home Appliances</td>\n",
       "      <td>Dyson V11 Vacuum</td>\n",
       "      <td>1</td>\n",
       "      <td>499.99</td>\n",
       "      <td>499.99</td>\n",
       "      <td>Europe</td>\n",
       "      <td>PayPal</td>\n",
       "    </tr>\n",
       "    <tr>\n",
       "      <th>2</th>\n",
       "      <td>10003</td>\n",
       "      <td>2024-01-03</td>\n",
       "      <td>Clothing</td>\n",
       "      <td>Levi's 501 Jeans</td>\n",
       "      <td>3</td>\n",
       "      <td>69.99</td>\n",
       "      <td>209.97</td>\n",
       "      <td>Asia</td>\n",
       "      <td>Debit Card</td>\n",
       "    </tr>\n",
       "    <tr>\n",
       "      <th>3</th>\n",
       "      <td>10004</td>\n",
       "      <td>2024-01-04</td>\n",
       "      <td>Books</td>\n",
       "      <td>The Da Vinci Code</td>\n",
       "      <td>4</td>\n",
       "      <td>15.99</td>\n",
       "      <td>63.96</td>\n",
       "      <td>North America</td>\n",
       "      <td>Credit Card</td>\n",
       "    </tr>\n",
       "    <tr>\n",
       "      <th>4</th>\n",
       "      <td>10005</td>\n",
       "      <td>2024-01-05</td>\n",
       "      <td>Beauty Products</td>\n",
       "      <td>Neutrogena Skincare Set</td>\n",
       "      <td>1</td>\n",
       "      <td>89.99</td>\n",
       "      <td>89.99</td>\n",
       "      <td>Europe</td>\n",
       "      <td>PayPal</td>\n",
       "    </tr>\n",
       "    <tr>\n",
       "      <th>...</th>\n",
       "      <td>...</td>\n",
       "      <td>...</td>\n",
       "      <td>...</td>\n",
       "      <td>...</td>\n",
       "      <td>...</td>\n",
       "      <td>...</td>\n",
       "      <td>...</td>\n",
       "      <td>...</td>\n",
       "      <td>...</td>\n",
       "    </tr>\n",
       "    <tr>\n",
       "      <th>235</th>\n",
       "      <td>10236</td>\n",
       "      <td>2024-08-23</td>\n",
       "      <td>Home Appliances</td>\n",
       "      <td>Nespresso Vertuo Next Coffee and Espresso Maker</td>\n",
       "      <td>1</td>\n",
       "      <td>159.99</td>\n",
       "      <td>159.99</td>\n",
       "      <td>Europe</td>\n",
       "      <td>PayPal</td>\n",
       "    </tr>\n",
       "    <tr>\n",
       "      <th>236</th>\n",
       "      <td>10237</td>\n",
       "      <td>2024-08-24</td>\n",
       "      <td>Clothing</td>\n",
       "      <td>Nike Air Force 1 Sneakers</td>\n",
       "      <td>3</td>\n",
       "      <td>90.00</td>\n",
       "      <td>270.00</td>\n",
       "      <td>Asia</td>\n",
       "      <td>Debit Card</td>\n",
       "    </tr>\n",
       "    <tr>\n",
       "      <th>237</th>\n",
       "      <td>10238</td>\n",
       "      <td>2024-08-25</td>\n",
       "      <td>Books</td>\n",
       "      <td>The Handmaid's Tale by Margaret Atwood</td>\n",
       "      <td>3</td>\n",
       "      <td>10.99</td>\n",
       "      <td>32.97</td>\n",
       "      <td>North America</td>\n",
       "      <td>Credit Card</td>\n",
       "    </tr>\n",
       "    <tr>\n",
       "      <th>238</th>\n",
       "      <td>10239</td>\n",
       "      <td>2024-08-26</td>\n",
       "      <td>Beauty Products</td>\n",
       "      <td>Sunday Riley Luna Sleeping Night Oil</td>\n",
       "      <td>1</td>\n",
       "      <td>55.00</td>\n",
       "      <td>55.00</td>\n",
       "      <td>Europe</td>\n",
       "      <td>PayPal</td>\n",
       "    </tr>\n",
       "    <tr>\n",
       "      <th>239</th>\n",
       "      <td>10240</td>\n",
       "      <td>2024-08-27</td>\n",
       "      <td>Sports</td>\n",
       "      <td>Yeti Rambler 20 oz Tumbler</td>\n",
       "      <td>2</td>\n",
       "      <td>29.99</td>\n",
       "      <td>59.98</td>\n",
       "      <td>Asia</td>\n",
       "      <td>Credit Card</td>\n",
       "    </tr>\n",
       "  </tbody>\n",
       "</table>\n",
       "<p>240 rows × 9 columns</p>\n",
       "</div>"
      ],
      "text/plain": [
       "     Transaction ID        Date Product Category  \\\n",
       "0             10001  2024-01-01      Electronics   \n",
       "1             10002  2024-01-02  Home Appliances   \n",
       "2             10003  2024-01-03         Clothing   \n",
       "3             10004  2024-01-04            Books   \n",
       "4             10005  2024-01-05  Beauty Products   \n",
       "..              ...         ...              ...   \n",
       "235           10236  2024-08-23  Home Appliances   \n",
       "236           10237  2024-08-24         Clothing   \n",
       "237           10238  2024-08-25            Books   \n",
       "238           10239  2024-08-26  Beauty Products   \n",
       "239           10240  2024-08-27           Sports   \n",
       "\n",
       "                                        Product Name  Units Sold  Unit Price  \\\n",
       "0                                      iPhone 14 Pro           2      999.99   \n",
       "1                                   Dyson V11 Vacuum           1      499.99   \n",
       "2                                   Levi's 501 Jeans           3       69.99   \n",
       "3                                  The Da Vinci Code           4       15.99   \n",
       "4                            Neutrogena Skincare Set           1       89.99   \n",
       "..                                               ...         ...         ...   \n",
       "235  Nespresso Vertuo Next Coffee and Espresso Maker           1      159.99   \n",
       "236                        Nike Air Force 1 Sneakers           3       90.00   \n",
       "237           The Handmaid's Tale by Margaret Atwood           3       10.99   \n",
       "238             Sunday Riley Luna Sleeping Night Oil           1       55.00   \n",
       "239                       Yeti Rambler 20 oz Tumbler           2       29.99   \n",
       "\n",
       "     Total Revenue         Region Payment Method  \n",
       "0          1999.98  North America    Credit Card  \n",
       "1           499.99         Europe         PayPal  \n",
       "2           209.97           Asia     Debit Card  \n",
       "3            63.96  North America    Credit Card  \n",
       "4            89.99         Europe         PayPal  \n",
       "..             ...            ...            ...  \n",
       "235         159.99         Europe         PayPal  \n",
       "236         270.00           Asia     Debit Card  \n",
       "237          32.97  North America    Credit Card  \n",
       "238          55.00         Europe         PayPal  \n",
       "239          59.98           Asia    Credit Card  \n",
       "\n",
       "[240 rows x 9 columns]"
      ]
     },
     "execution_count": 42,
     "metadata": {},
     "output_type": "execute_result"
    }
   ],
   "source": [
    "df"
   ]
  },
  {
   "cell_type": "code",
   "execution_count": null,
   "id": "167ca41b-fe96-4096-a3f3-37287302889a",
   "metadata": {},
   "outputs": [],
   "source": []
  }
 ],
 "metadata": {
  "kernelspec": {
   "display_name": "Python 3 (ipykernel)",
   "language": "python",
   "name": "python3"
  },
  "language_info": {
   "codemirror_mode": {
    "name": "ipython",
    "version": 3
   },
   "file_extension": ".py",
   "mimetype": "text/x-python",
   "name": "python",
   "nbconvert_exporter": "python",
   "pygments_lexer": "ipython3",
   "version": "3.9.6"
  }
 },
 "nbformat": 4,
 "nbformat_minor": 5
}
