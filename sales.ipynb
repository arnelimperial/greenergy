{
 "cells": [
  {
   "cell_type": "markdown",
   "id": "107b9803-a9ff-41ff-9f9e-fbdce2a67d96",
   "metadata": {},
   "source": [
    "# EDA on Online Sales Data\n",
    "- [Online Retail Sales Dataset](https://github.com/arnelimperial/greenergy/blob/d7b2a4cd417d148aa9ee5a76e94cd13e171c717c//href=)\n",
    "- This dataset will provide synthetic data for online retail sales, which include details of customer transactions and orders with regard to the involved items, their quantities, prices, discounts, methods of payment, and the customers' demographics for analysis in terms of buying behavior, sales trend, inventory management, and marketing strategy."
   ]
  },
  {
   "cell_type": "code",
   "execution_count": 1,
   "id": "fa9756cf-70c9-438c-8161-d04d09c75173",
   "metadata": {},
   "outputs": [],
   "source": [
    "import pandas as pd\n",
    "import numpy as np\n",
    "import matplotlib.pyplot as plt\n",
    "%matplotlib inline\n",
    "import seaborn as sns\n",
    "from sklearn.preprocessing import StandardScaler, MinMaxScaler\n",
    "import statsmodels.api as sm\n",
    "from scipy.stats import shapiro, normaltest, zscore"
   ]
  },
  {
   "cell_type": "code",
   "execution_count": null,
   "id": "5cec52a6-6e7c-4e76-b48e-45229417e7d7",
   "metadata": {},
   "outputs": [],
   "source": []
  },
  {
   "cell_type": "code",
   "execution_count": 2,
   "id": "dbf3f046-bfa0-48a3-8b9b-3e366955c7f9",
   "metadata": {},
   "outputs": [],
   "source": [
    "# Set visual display settings\n",
    "sns.set(style='whitegrid')"
   ]
  },
  {
   "cell_type": "markdown",
   "id": "3ce8a341-f648-4c1e-99d6-323199ad7445",
   "metadata": {},
   "source": [
    "## Load CSV"
   ]
  },
  {
   "cell_type": "code",
   "execution_count": 3,
   "id": "a8661c58-7698-4eb7-8a1b-381b62499b71",
   "metadata": {},
   "outputs": [],
   "source": [
    "original_df = pd.read_csv('online_retail_sales_dataset.csv')"
   ]
  },
  {
   "cell_type": "code",
   "execution_count": 4,
   "id": "2ef58bb0-4c44-4fee-89ce-ee9ae45a8694",
   "metadata": {},
   "outputs": [
    {
     "data": {
      "text/html": [
       "<div>\n",
       "<style scoped>\n",
       "    .dataframe tbody tr th:only-of-type {\n",
       "        vertical-align: middle;\n",
       "    }\n",
       "\n",
       "    .dataframe tbody tr th {\n",
       "        vertical-align: top;\n",
       "    }\n",
       "\n",
       "    .dataframe thead th {\n",
       "        text-align: right;\n",
       "    }\n",
       "</style>\n",
       "<table border=\"1\" class=\"dataframe\">\n",
       "  <thead>\n",
       "    <tr style=\"text-align: right;\">\n",
       "      <th></th>\n",
       "      <th>transaction_id</th>\n",
       "      <th>timestamp</th>\n",
       "      <th>customer_id</th>\n",
       "      <th>product_id</th>\n",
       "      <th>product_category</th>\n",
       "      <th>quantity</th>\n",
       "      <th>price</th>\n",
       "      <th>discount</th>\n",
       "      <th>payment_method</th>\n",
       "      <th>customer_age</th>\n",
       "      <th>customer_gender</th>\n",
       "      <th>customer_location</th>\n",
       "      <th>total_amount</th>\n",
       "    </tr>\n",
       "  </thead>\n",
       "  <tbody>\n",
       "    <tr>\n",
       "      <th>0</th>\n",
       "      <td>1</td>\n",
       "      <td>2023-01-01 00:00:00</td>\n",
       "      <td>1993</td>\n",
       "      <td>915</td>\n",
       "      <td>Home &amp; Kitchen</td>\n",
       "      <td>8</td>\n",
       "      <td>103.30</td>\n",
       "      <td>0.23</td>\n",
       "      <td>Gift Card</td>\n",
       "      <td>27</td>\n",
       "      <td>Female</td>\n",
       "      <td>North America</td>\n",
       "      <td>636.33</td>\n",
       "    </tr>\n",
       "    <tr>\n",
       "      <th>1</th>\n",
       "      <td>2</td>\n",
       "      <td>2023-01-01 00:01:00</td>\n",
       "      <td>3474</td>\n",
       "      <td>553</td>\n",
       "      <td>Clothing</td>\n",
       "      <td>9</td>\n",
       "      <td>180.28</td>\n",
       "      <td>0.31</td>\n",
       "      <td>Gift Card</td>\n",
       "      <td>53</td>\n",
       "      <td>Other</td>\n",
       "      <td>South America</td>\n",
       "      <td>1119.54</td>\n",
       "    </tr>\n",
       "    <tr>\n",
       "      <th>2</th>\n",
       "      <td>3</td>\n",
       "      <td>2023-01-01 00:02:00</td>\n",
       "      <td>4564</td>\n",
       "      <td>248</td>\n",
       "      <td>Beauty &amp; Personal Care</td>\n",
       "      <td>7</td>\n",
       "      <td>81.58</td>\n",
       "      <td>0.27</td>\n",
       "      <td>Debit Card</td>\n",
       "      <td>34</td>\n",
       "      <td>Other</td>\n",
       "      <td>North America</td>\n",
       "      <td>416.87</td>\n",
       "    </tr>\n",
       "    <tr>\n",
       "      <th>3</th>\n",
       "      <td>4</td>\n",
       "      <td>2023-01-01 00:03:00</td>\n",
       "      <td>1133</td>\n",
       "      <td>948</td>\n",
       "      <td>Clothing</td>\n",
       "      <td>3</td>\n",
       "      <td>235.20</td>\n",
       "      <td>0.00</td>\n",
       "      <td>Debit Card</td>\n",
       "      <td>50</td>\n",
       "      <td>Other</td>\n",
       "      <td>Australia</td>\n",
       "      <td>705.60</td>\n",
       "    </tr>\n",
       "    <tr>\n",
       "      <th>4</th>\n",
       "      <td>5</td>\n",
       "      <td>2023-01-01 00:04:00</td>\n",
       "      <td>3626</td>\n",
       "      <td>284</td>\n",
       "      <td>Books</td>\n",
       "      <td>9</td>\n",
       "      <td>453.00</td>\n",
       "      <td>0.34</td>\n",
       "      <td>Credit Card</td>\n",
       "      <td>23</td>\n",
       "      <td>Female</td>\n",
       "      <td>Australia</td>\n",
       "      <td>2690.82</td>\n",
       "    </tr>\n",
       "  </tbody>\n",
       "</table>\n",
       "</div>"
      ],
      "text/plain": [
       "   transaction_id            timestamp  customer_id  product_id  \\\n",
       "0               1  2023-01-01 00:00:00         1993         915   \n",
       "1               2  2023-01-01 00:01:00         3474         553   \n",
       "2               3  2023-01-01 00:02:00         4564         248   \n",
       "3               4  2023-01-01 00:03:00         1133         948   \n",
       "4               5  2023-01-01 00:04:00         3626         284   \n",
       "\n",
       "         product_category  quantity   price  discount payment_method  \\\n",
       "0          Home & Kitchen         8  103.30      0.23      Gift Card   \n",
       "1                Clothing         9  180.28      0.31      Gift Card   \n",
       "2  Beauty & Personal Care         7   81.58      0.27     Debit Card   \n",
       "3                Clothing         3  235.20      0.00     Debit Card   \n",
       "4                   Books         9  453.00      0.34    Credit Card   \n",
       "\n",
       "   customer_age customer_gender customer_location  total_amount  \n",
       "0            27          Female     North America        636.33  \n",
       "1            53           Other     South America       1119.54  \n",
       "2            34           Other     North America        416.87  \n",
       "3            50           Other         Australia        705.60  \n",
       "4            23          Female         Australia       2690.82  "
      ]
     },
     "execution_count": 4,
     "metadata": {},
     "output_type": "execute_result"
    }
   ],
   "source": [
    "original_df.head()"
   ]
  },
  {
   "cell_type": "markdown",
   "id": "2f2f80bf-1d2a-4af3-83f7-9d72ee94d615",
   "metadata": {},
   "source": [
    "## DF Overview"
   ]
  },
  {
   "cell_type": "code",
   "execution_count": 5,
   "id": "6c2ef8ae-5851-49cb-b433-94f0904ac900",
   "metadata": {},
   "outputs": [
    {
     "name": "stdout",
     "output_type": "stream",
     "text": [
      "<class 'pandas.core.frame.DataFrame'>\n",
      "RangeIndex: 1000000 entries, 0 to 999999\n",
      "Data columns (total 13 columns):\n",
      " #   Column             Non-Null Count    Dtype  \n",
      "---  ------             --------------    -----  \n",
      " 0   transaction_id     1000000 non-null  int64  \n",
      " 1   timestamp          1000000 non-null  object \n",
      " 2   customer_id        1000000 non-null  int64  \n",
      " 3   product_id         1000000 non-null  int64  \n",
      " 4   product_category   1000000 non-null  object \n",
      " 5   quantity           1000000 non-null  int64  \n",
      " 6   price              1000000 non-null  float64\n",
      " 7   discount           1000000 non-null  float64\n",
      " 8   payment_method     1000000 non-null  object \n",
      " 9   customer_age       1000000 non-null  int64  \n",
      " 10  customer_gender    1000000 non-null  object \n",
      " 11  customer_location  1000000 non-null  object \n",
      " 12  total_amount       1000000 non-null  float64\n",
      "dtypes: float64(3), int64(5), object(5)\n",
      "memory usage: 99.2+ MB\n"
     ]
    }
   ],
   "source": [
    "original_df.info()"
   ]
  },
  {
   "cell_type": "code",
   "execution_count": 6,
   "id": "0eaa57e7-51a5-4622-b6d2-db05ccb60467",
   "metadata": {},
   "outputs": [
    {
     "data": {
      "text/plain": [
       "(1000000, 13)"
      ]
     },
     "execution_count": 6,
     "metadata": {},
     "output_type": "execute_result"
    }
   ],
   "source": [
    "original_df.shape\n",
    "# (rows, columns)"
   ]
  },
  {
   "cell_type": "markdown",
   "id": "18ba2759-e4c7-4a91-bb78-5f7b794e61d5",
   "metadata": {},
   "source": [
    "### Descriptive Statistics"
   ]
  },
  {
   "cell_type": "code",
   "execution_count": 7,
   "id": "2b8f16e0-a197-4dbd-8327-b922e68cd11b",
   "metadata": {},
   "outputs": [
    {
     "data": {
      "text/html": [
       "<div>\n",
       "<style scoped>\n",
       "    .dataframe tbody tr th:only-of-type {\n",
       "        vertical-align: middle;\n",
       "    }\n",
       "\n",
       "    .dataframe tbody tr th {\n",
       "        vertical-align: top;\n",
       "    }\n",
       "\n",
       "    .dataframe thead th {\n",
       "        text-align: right;\n",
       "    }\n",
       "</style>\n",
       "<table border=\"1\" class=\"dataframe\">\n",
       "  <thead>\n",
       "    <tr style=\"text-align: right;\">\n",
       "      <th></th>\n",
       "      <th>quantity</th>\n",
       "      <th>price</th>\n",
       "      <th>discount</th>\n",
       "      <th>customer_age</th>\n",
       "      <th>total_amount</th>\n",
       "    </tr>\n",
       "  </thead>\n",
       "  <tbody>\n",
       "    <tr>\n",
       "      <th>count</th>\n",
       "      <td>1000000.000000</td>\n",
       "      <td>1000000.000000</td>\n",
       "      <td>1000000.000000</td>\n",
       "      <td>1000000.000000</td>\n",
       "      <td>1000000.000000</td>\n",
       "    </tr>\n",
       "    <tr>\n",
       "      <th>mean</th>\n",
       "      <td>5.003086</td>\n",
       "      <td>252.445705</td>\n",
       "      <td>0.250204</td>\n",
       "      <td>43.508625</td>\n",
       "      <td>946.839858</td>\n",
       "    </tr>\n",
       "    <tr>\n",
       "      <th>std</th>\n",
       "      <td>2.581004</td>\n",
       "      <td>142.868633</td>\n",
       "      <td>0.144384</td>\n",
       "      <td>15.007346</td>\n",
       "      <td>810.902205</td>\n",
       "    </tr>\n",
       "    <tr>\n",
       "      <th>min</th>\n",
       "      <td>1.000000</td>\n",
       "      <td>5.000000</td>\n",
       "      <td>0.000000</td>\n",
       "      <td>18.000000</td>\n",
       "      <td>2.560000</td>\n",
       "    </tr>\n",
       "    <tr>\n",
       "      <th>25%</th>\n",
       "      <td>3.000000</td>\n",
       "      <td>128.690000</td>\n",
       "      <td>0.130000</td>\n",
       "      <td>31.000000</td>\n",
       "      <td>297.180000</td>\n",
       "    </tr>\n",
       "    <tr>\n",
       "      <th>50%</th>\n",
       "      <td>5.000000</td>\n",
       "      <td>252.700000</td>\n",
       "      <td>0.250000</td>\n",
       "      <td>44.000000</td>\n",
       "      <td>715.710000</td>\n",
       "    </tr>\n",
       "    <tr>\n",
       "      <th>75%</th>\n",
       "      <td>7.000000</td>\n",
       "      <td>375.990000</td>\n",
       "      <td>0.380000</td>\n",
       "      <td>57.000000</td>\n",
       "      <td>1397.750000</td>\n",
       "    </tr>\n",
       "    <tr>\n",
       "      <th>max</th>\n",
       "      <td>9.000000</td>\n",
       "      <td>500.000000</td>\n",
       "      <td>0.500000</td>\n",
       "      <td>69.000000</td>\n",
       "      <td>4496.130000</td>\n",
       "    </tr>\n",
       "  </tbody>\n",
       "</table>\n",
       "</div>"
      ],
      "text/plain": [
       "             quantity           price        discount    customer_age  \\\n",
       "count  1000000.000000  1000000.000000  1000000.000000  1000000.000000   \n",
       "mean         5.003086      252.445705        0.250204       43.508625   \n",
       "std          2.581004      142.868633        0.144384       15.007346   \n",
       "min          1.000000        5.000000        0.000000       18.000000   \n",
       "25%          3.000000      128.690000        0.130000       31.000000   \n",
       "50%          5.000000      252.700000        0.250000       44.000000   \n",
       "75%          7.000000      375.990000        0.380000       57.000000   \n",
       "max          9.000000      500.000000        0.500000       69.000000   \n",
       "\n",
       "         total_amount  \n",
       "count  1000000.000000  \n",
       "mean       946.839858  \n",
       "std        810.902205  \n",
       "min          2.560000  \n",
       "25%        297.180000  \n",
       "50%        715.710000  \n",
       "75%       1397.750000  \n",
       "max       4496.130000  "
      ]
     },
     "execution_count": 7,
     "metadata": {},
     "output_type": "execute_result"
    }
   ],
   "source": [
    "# Descriptive stat of selected numeric columns\n",
    "original_df[['quantity', 'price', 'discount', 'customer_age', 'total_amount']].describe()\n"
   ]
  },
  {
   "cell_type": "markdown",
   "id": "47f2c81c-d3a8-41cf-9f59-4a0c4bf29fb3",
   "metadata": {},
   "source": [
    "## Data Cleaning"
   ]
  },
  {
   "cell_type": "markdown",
   "id": "dc42071d-dfe1-41fc-bc49-91626e383052",
   "metadata": {},
   "source": [
    "### Handling Missisng Values"
   ]
  },
  {
   "cell_type": "code",
   "execution_count": 8,
   "id": "453d7078-421b-4c39-9848-754f6678a103",
   "metadata": {},
   "outputs": [
    {
     "data": {
      "text/plain": [
       "transaction_id       0\n",
       "timestamp            0\n",
       "customer_id          0\n",
       "product_id           0\n",
       "product_category     0\n",
       "quantity             0\n",
       "price                0\n",
       "discount             0\n",
       "payment_method       0\n",
       "customer_age         0\n",
       "customer_gender      0\n",
       "customer_location    0\n",
       "total_amount         0\n",
       "dtype: int64"
      ]
     },
     "execution_count": 8,
     "metadata": {},
     "output_type": "execute_result"
    }
   ],
   "source": [
    "# identify columns with missing values\n",
    "original_df.isnull().sum()\n",
    "# DF has no NAN"
   ]
  },
  {
   "cell_type": "markdown",
   "id": "60f2072c-b1f2-413b-b00a-5f3a0822bb6f",
   "metadata": {},
   "source": [
    "**Suggestions if missing values are present**\n",
    "\n",
    "For numeric column:\n",
    "```python\n",
    "df['col'] = df['col'].fillna(0)\n",
    "```\n",
    "Option to fill missing values in a specific column with the mean:\n",
    "```python\n",
    "df['price'].fillna(df['price'].mean(), inplace=True)\n",
    "```\n",
    "For non-numeric columns replace with appropriate string:\n",
    "```python\n",
    " df['col'] = df['col'].fillna('blah!')\n",
    "```\n",
    "Option to fill missing values in a specific column with the mean:\n",
    "```python\n",
    " df['price'].fillna(df['price'].mean(), inplace=True)\n",
    "```\n",
    "**Rationale**: Handling missing values ensures comprehensive datasets, reducing biases during analysis. This practice allows for better data integrity and improved predictive performance.</p>"
   ]
  },
  {
   "cell_type": "markdown",
   "id": "25ae5aa3-06a7-465d-86f5-7ca1ef1f75f8",
   "metadata": {},
   "source": [
    "### Handling Duplicate Rows"
   ]
  },
  {
   "cell_type": "code",
   "execution_count": 9,
   "id": "1581a22a-4e45-4a39-a9a1-0c9442387174",
   "metadata": {},
   "outputs": [
    {
     "data": {
      "text/plain": [
       "np.int64(0)"
      ]
     },
     "execution_count": 9,
     "metadata": {},
     "output_type": "execute_result"
    }
   ],
   "source": [
    "# check for duplicate rows\n",
    "original_df.duplicated().sum()\n",
    "# DF has no duplicate rows"
   ]
  },
  {
   "cell_type": "markdown",
   "id": "8dc5e997-17d1-4ce7-99ea-b5bbca1294e1",
   "metadata": {},
   "source": [
    "<b>Suggestion if there are duplicate rows</b>"
   ]
  },
  {
   "cell_type": "code",
   "execution_count": 10,
   "id": "47c9d22f-db3b-4c86-b331-15b7ee933010",
   "metadata": {},
   "outputs": [],
   "source": [
    "# remove duplicate rows\n",
    "original_df = original_df.drop_duplicates()\n",
    "# Rationale: By eliminating duplicates, data clarity is enhanced, allowing for more accurate insights from analyses.\n"
   ]
  },
  {
   "cell_type": "code",
   "execution_count": 11,
   "id": "5c6bb9ac-1a41-43fc-9fa2-c64cae685ab3",
   "metadata": {},
   "outputs": [
    {
     "data": {
      "text/plain": [
       "(1000000, 13)"
      ]
     },
     "execution_count": 11,
     "metadata": {},
     "output_type": "execute_result"
    }
   ],
   "source": [
    "# DF has no duplicate rows\n",
    "original_df.shape"
   ]
  },
  {
   "cell_type": "markdown",
   "id": "4b55113e-bcee-4fba-86b9-90a88f29da04",
   "metadata": {},
   "source": [
    "### Correcting Data Type for df['timestamp']\n",
    "\n",
    "[In the Philippines, the recommended timestamp format conforms to the ISO 8601 standard](https://en.wikipedia.org/wiki/Date_and_time_notation_in_the_Philippines#:~:text=Date%20and%20time%20notation%20in%20the%20Philippines%20varies%20across%20the%20country%20in%20various%2C%20customary%20formats.%20Some%20government%20agencies%20in%20the%20Philippines%20have%20adopted,Multi%2DPurpose%20ID.), which prescribes the format as `YYYY-MM-DD` for dates and utilizes the 24-hour clock format for times, resulting in a complete representation such as 2023-01-01T00:02:00. This standardization enhances clarity and mitigates ambiguity in datetime notation, making it appropriate for legal and technical applications.\n",
    "\n",
    "Our group formatted the timestamp column to ISO 8601 utilizing the 24-hour clock format for times and created another `df['date']` for timestamp without 24-hour clock format `(YYYY-MM-DD)`."
   ]
  },
  {
   "cell_type": "code",
   "execution_count": 12,
   "id": "e0bbf02f-e945-49ef-b650-bda3b5960b70",
   "metadata": {},
   "outputs": [],
   "source": [
    "# ISO 8601 utilizes the 24-hour clock format for times\n",
    "original_df['timestamp'] = pd.to_datetime(original_df['timestamp']).apply(lambda x: x.isoformat())\n",
    "# ISO 8601 with date  only\n",
    "original_df['date'] = pd.to_datetime(original_df['timestamp']).dt.date"
   ]
  },
  {
   "cell_type": "markdown",
   "id": "5326c2d5-ed4a-41cc-9976-b1d501e65b25",
   "metadata": {},
   "source": [
    "**Rationale**: Correct data types minimize the risk of errors during computations and support the correct functioning of analysis functions."
   ]
  },
  {
   "cell_type": "code",
   "execution_count": 13,
   "id": "ee486e74-8db7-40f9-8e28-d4164723820d",
   "metadata": {},
   "outputs": [
    {
     "data": {
      "text/html": [
       "<div>\n",
       "<style scoped>\n",
       "    .dataframe tbody tr th:only-of-type {\n",
       "        vertical-align: middle;\n",
       "    }\n",
       "\n",
       "    .dataframe tbody tr th {\n",
       "        vertical-align: top;\n",
       "    }\n",
       "\n",
       "    .dataframe thead th {\n",
       "        text-align: right;\n",
       "    }\n",
       "</style>\n",
       "<table border=\"1\" class=\"dataframe\">\n",
       "  <thead>\n",
       "    <tr style=\"text-align: right;\">\n",
       "      <th></th>\n",
       "      <th>transaction_id</th>\n",
       "      <th>timestamp</th>\n",
       "      <th>customer_id</th>\n",
       "      <th>product_id</th>\n",
       "      <th>product_category</th>\n",
       "      <th>quantity</th>\n",
       "      <th>price</th>\n",
       "      <th>discount</th>\n",
       "      <th>payment_method</th>\n",
       "      <th>customer_age</th>\n",
       "      <th>customer_gender</th>\n",
       "      <th>customer_location</th>\n",
       "      <th>total_amount</th>\n",
       "      <th>date</th>\n",
       "    </tr>\n",
       "  </thead>\n",
       "  <tbody>\n",
       "    <tr>\n",
       "      <th>999995</th>\n",
       "      <td>999996</td>\n",
       "      <td>2024-11-25T10:35:00</td>\n",
       "      <td>1324</td>\n",
       "      <td>833</td>\n",
       "      <td>Clothing</td>\n",
       "      <td>9</td>\n",
       "      <td>318.66</td>\n",
       "      <td>0.30</td>\n",
       "      <td>PayPal</td>\n",
       "      <td>58</td>\n",
       "      <td>Other</td>\n",
       "      <td>Asia</td>\n",
       "      <td>2007.56</td>\n",
       "      <td>2024-11-25</td>\n",
       "    </tr>\n",
       "    <tr>\n",
       "      <th>999996</th>\n",
       "      <td>999997</td>\n",
       "      <td>2024-11-25T10:36:00</td>\n",
       "      <td>3671</td>\n",
       "      <td>260</td>\n",
       "      <td>Books</td>\n",
       "      <td>7</td>\n",
       "      <td>283.78</td>\n",
       "      <td>0.30</td>\n",
       "      <td>Credit Card</td>\n",
       "      <td>32</td>\n",
       "      <td>Male</td>\n",
       "      <td>North America</td>\n",
       "      <td>1390.52</td>\n",
       "      <td>2024-11-25</td>\n",
       "    </tr>\n",
       "    <tr>\n",
       "      <th>999997</th>\n",
       "      <td>999998</td>\n",
       "      <td>2024-11-25T10:37:00</td>\n",
       "      <td>3651</td>\n",
       "      <td>293</td>\n",
       "      <td>Electronics</td>\n",
       "      <td>8</td>\n",
       "      <td>418.59</td>\n",
       "      <td>0.42</td>\n",
       "      <td>Gift Card</td>\n",
       "      <td>19</td>\n",
       "      <td>Male</td>\n",
       "      <td>Australia</td>\n",
       "      <td>1942.26</td>\n",
       "      <td>2024-11-25</td>\n",
       "    </tr>\n",
       "    <tr>\n",
       "      <th>999998</th>\n",
       "      <td>999999</td>\n",
       "      <td>2024-11-25T10:38:00</td>\n",
       "      <td>3253</td>\n",
       "      <td>534</td>\n",
       "      <td>Home &amp; Kitchen</td>\n",
       "      <td>6</td>\n",
       "      <td>258.94</td>\n",
       "      <td>0.13</td>\n",
       "      <td>Credit Card</td>\n",
       "      <td>38</td>\n",
       "      <td>Other</td>\n",
       "      <td>North America</td>\n",
       "      <td>1351.67</td>\n",
       "      <td>2024-11-25</td>\n",
       "    </tr>\n",
       "    <tr>\n",
       "      <th>999999</th>\n",
       "      <td>1000000</td>\n",
       "      <td>2024-11-25T10:39:00</td>\n",
       "      <td>3337</td>\n",
       "      <td>826</td>\n",
       "      <td>Electronics</td>\n",
       "      <td>9</td>\n",
       "      <td>76.06</td>\n",
       "      <td>0.47</td>\n",
       "      <td>Gift Card</td>\n",
       "      <td>59</td>\n",
       "      <td>Male</td>\n",
       "      <td>North America</td>\n",
       "      <td>362.81</td>\n",
       "      <td>2024-11-25</td>\n",
       "    </tr>\n",
       "  </tbody>\n",
       "</table>\n",
       "</div>"
      ],
      "text/plain": [
       "        transaction_id            timestamp  customer_id  product_id  \\\n",
       "999995          999996  2024-11-25T10:35:00         1324         833   \n",
       "999996          999997  2024-11-25T10:36:00         3671         260   \n",
       "999997          999998  2024-11-25T10:37:00         3651         293   \n",
       "999998          999999  2024-11-25T10:38:00         3253         534   \n",
       "999999         1000000  2024-11-25T10:39:00         3337         826   \n",
       "\n",
       "       product_category  quantity   price  discount payment_method  \\\n",
       "999995         Clothing         9  318.66      0.30         PayPal   \n",
       "999996            Books         7  283.78      0.30    Credit Card   \n",
       "999997      Electronics         8  418.59      0.42      Gift Card   \n",
       "999998   Home & Kitchen         6  258.94      0.13    Credit Card   \n",
       "999999      Electronics         9   76.06      0.47      Gift Card   \n",
       "\n",
       "        customer_age customer_gender customer_location  total_amount  \\\n",
       "999995            58           Other              Asia       2007.56   \n",
       "999996            32            Male     North America       1390.52   \n",
       "999997            19            Male         Australia       1942.26   \n",
       "999998            38           Other     North America       1351.67   \n",
       "999999            59            Male     North America        362.81   \n",
       "\n",
       "              date  \n",
       "999995  2024-11-25  \n",
       "999996  2024-11-25  \n",
       "999997  2024-11-25  \n",
       "999998  2024-11-25  \n",
       "999999  2024-11-25  "
      ]
     },
     "execution_count": 13,
     "metadata": {},
     "output_type": "execute_result"
    }
   ],
   "source": [
    "original_df.tail()"
   ]
  },
  {
   "cell_type": "markdown",
   "id": "3782c852-eafa-4eda-bb63-2c5084d9ef8f",
   "metadata": {},
   "source": [
    "### Data Type Consistency\n",
    "\n",
    "Ensure that each column has the correct data type for consistency."
   ]
  },
  {
   "cell_type": "code",
   "execution_count": 14,
   "id": "04236db6-009c-4e68-8e8f-026392f2eb9b",
   "metadata": {},
   "outputs": [
    {
     "name": "stdout",
     "output_type": "stream",
     "text": [
      "<class 'pandas.core.frame.DataFrame'>\n",
      "RangeIndex: 1000000 entries, 0 to 999999\n",
      "Data columns (total 14 columns):\n",
      " #   Column             Non-Null Count    Dtype  \n",
      "---  ------             --------------    -----  \n",
      " 0   transaction_id     1000000 non-null  int64  \n",
      " 1   timestamp          1000000 non-null  object \n",
      " 2   customer_id        1000000 non-null  int64  \n",
      " 3   product_id         1000000 non-null  int64  \n",
      " 4   product_category   1000000 non-null  object \n",
      " 5   quantity           1000000 non-null  int64  \n",
      " 6   price              1000000 non-null  float64\n",
      " 7   discount           1000000 non-null  float64\n",
      " 8   payment_method     1000000 non-null  object \n",
      " 9   customer_age       1000000 non-null  int64  \n",
      " 10  customer_gender    1000000 non-null  object \n",
      " 11  customer_location  1000000 non-null  object \n",
      " 12  total_amount       1000000 non-null  float64\n",
      " 13  date               1000000 non-null  object \n",
      "dtypes: float64(3), int64(5), object(6)\n",
      "memory usage: 106.8+ MB\n"
     ]
    }
   ],
   "source": [
    "# check first the data type of the column\n",
    "original_df.info()"
   ]
  },
  {
   "cell_type": "code",
   "execution_count": 15,
   "id": "23078110-1002-440b-915a-9a5692db2a1f",
   "metadata": {},
   "outputs": [],
   "source": [
    "# Perform additional conversion (optional)\n",
    "original_df['customer_id'] = original_df['customer_id'].astype(int)  # Ensure customer_id is integer type\n",
    "original_df['quantity'] = original_df['quantity'].astype(int)  # Ensure quantity is integer type\n",
    "original_df['price'] = original_df['price'].astype(float)  # Ensure price is float type\n",
    "original_df['date'] = original_df['date'].astype(str)  # Ensure date is str type\n"
   ]
  },
  {
   "cell_type": "code",
   "execution_count": 16,
   "id": "2ea420bb-2b5d-4ae1-832c-23572e6a0b17",
   "metadata": {},
   "outputs": [
    {
     "name": "stdout",
     "output_type": "stream",
     "text": [
      "<class 'pandas.core.frame.DataFrame'>\n",
      "RangeIndex: 1000000 entries, 0 to 999999\n",
      "Data columns (total 14 columns):\n",
      " #   Column             Non-Null Count    Dtype  \n",
      "---  ------             --------------    -----  \n",
      " 0   transaction_id     1000000 non-null  int64  \n",
      " 1   timestamp          1000000 non-null  object \n",
      " 2   customer_id        1000000 non-null  int64  \n",
      " 3   product_id         1000000 non-null  int64  \n",
      " 4   product_category   1000000 non-null  object \n",
      " 5   quantity           1000000 non-null  int64  \n",
      " 6   price              1000000 non-null  float64\n",
      " 7   discount           1000000 non-null  float64\n",
      " 8   payment_method     1000000 non-null  object \n",
      " 9   customer_age       1000000 non-null  int64  \n",
      " 10  customer_gender    1000000 non-null  object \n",
      " 11  customer_location  1000000 non-null  object \n",
      " 12  total_amount       1000000 non-null  float64\n",
      " 13  date               1000000 non-null  object \n",
      "dtypes: float64(3), int64(5), object(6)\n",
      "memory usage: 106.8+ MB\n"
     ]
    }
   ],
   "source": [
    "original_df.info()"
   ]
  },
  {
   "cell_type": "markdown",
   "id": "30f02ec3-bed9-4681-9c96-933cd638e3c7",
   "metadata": {},
   "source": [
    "<p>Rationale: Inconsistent data entries can lead to misleading analysis results, and ensuring uniformity is crucial for accurate data processing.</p>"
   ]
  },
  {
   "cell_type": "markdown",
   "id": "875a6d3c-4e5f-4446-bc27-d5da980d61c8",
   "metadata": {},
   "source": [
    "### Standardizing Categorical Variables"
   ]
  },
  {
   "cell_type": "code",
   "execution_count": 17,
   "id": "24817558-9b79-490c-ace9-996cc28a16d8",
   "metadata": {},
   "outputs": [],
   "source": [
    "# Lowercase payment methods\n",
    "original_df['payment_method'] = original_df['payment_method'].str.lower()\n",
    "original_df['customer_location'] = original_df['customer_location'].str.lower()\n",
    "original_df['product_category'] = original_df['product_category'].str.lower()\n",
    "original_df['customer_gender'] = original_df['customer_gender'].str.lower()\n",
    "\n",
    "# One-hot encoding for categorical variables\n",
    "original_df = pd.get_dummies(original_df, columns=['customer_gender']) \n",
    "\n",
    "# original_df = pd.get_dummies(original_df, columns=['product_category', 'customer_gender', 'customer_location'], drop_first=True)  # One-hot encoding for categorical variables"
   ]
  },
  {
   "cell_type": "markdown",
   "id": "751872e4-2ea2-4f94-9158-8d5700f37881",
   "metadata": {},
   "source": [
    "**Rationale**: Converting `categorical columns to lowercase` during data cleaning is crucial for ensuring consistency, improving data quality, enhancing processing performance, and facilitating compatibility with analytical tools. By standardizing entries to the same format, it eliminates discrepancies from variations in capitalization, which aids in accurate data aggregation and analysis. Additionally, lowercasing reduces the likelihood of errors during data processing—particularly in operations like grouping or merging—by preventing missed matches or duplicates. It also improves the efficiency of string operations in data processing frameworks, especially with large datasets. Finally, this conversion ensures that machine learning algorithms can effectively encode and analyze categorical data, as many require consistent formats for accurate recognition and transformation."
   ]
  },
  {
   "cell_type": "code",
   "execution_count": 18,
   "id": "502f9483-67d1-4546-a34d-dc712b1a6ae7",
   "metadata": {},
   "outputs": [
    {
     "data": {
      "text/plain": [
       "Index(['transaction_id', 'timestamp', 'customer_id', 'product_id',\n",
       "       'product_category', 'quantity', 'price', 'discount', 'payment_method',\n",
       "       'customer_age', 'customer_location', 'total_amount', 'date',\n",
       "       'customer_gender_female', 'customer_gender_male',\n",
       "       'customer_gender_other'],\n",
       "      dtype='object')"
      ]
     },
     "execution_count": 18,
     "metadata": {},
     "output_type": "execute_result"
    }
   ],
   "source": [
    "original_df.columns"
   ]
  },
  {
   "cell_type": "code",
   "execution_count": 19,
   "id": "66e2fb1e-41a6-4ef8-b8a5-46842c1183a7",
   "metadata": {},
   "outputs": [
    {
     "data": {
      "text/plain": [
       "(1000000, 16)"
      ]
     },
     "execution_count": 19,
     "metadata": {},
     "output_type": "execute_result"
    }
   ],
   "source": [
    "original_df.shape"
   ]
  },
  {
   "cell_type": "markdown",
   "id": "389812fa-1ffe-4432-9898-a49ed02f5c20",
   "metadata": {},
   "source": [
    "### Outlier Detection and Management\n",
    "\n",
    "**Definition of Quartiles**:\n",
    "\n",
    "- Q1 (First Quartile): This is the 25th percentile of the data, meaning that 25% of the data points are below this value.\n",
    "- Q3 (Third Quartile): This is the 75th percentile, indicating that 75% of the data points are below this value.\n",
    "\n",
    "**Calculating IQR**:\n",
    "\n",
    "- The Interquartile Range (IQR) is calculated as:\n",
    "```bash\n",
    "IQR = Q3 - Q1\n",
    "```\n",
    "\n",
    "- The IQR represents the range within which the central 50% of the data points lie.\n",
    "\n",
    "**Identifying Outliers**:\n",
    "\n",
    "- Outliers are defined as any data points that fall below `Q1 − 1.5 * IQR` or above `Q3 + 1.5 * IQR`.\n",
    "- Once outliers are identified, they can be removed from the dataset to ensure that subsequent analyses are not skewed by these extreme values."
   ]
  },
  {
   "cell_type": "code",
   "execution_count": 20,
   "id": "76885db4-9f49-4cb1-956a-0f22f5a6314d",
   "metadata": {},
   "outputs": [
    {
     "data": {
      "image/png": "[encoded data removed]",
      "text/plain": [
       "<Figure size 1200x600 with 1 Axes>"
      ]
     },
     "metadata": {},
     "output_type": "display_data"
    }
   ],
   "source": [
    "# Boxplot before cleaning\n",
    "numeric_columns = original_df.select_dtypes(include=[np.number]).columns\n",
    "\n",
    "# Specify columns to eliminate\n",
    "columns_to_exclude = ['transaction_id', 'customer_id', 'product_id']  \n",
    "\n",
    "# Filter out the specified numeric columns\n",
    "filtered_numeric_columns = [col for col in numeric_columns if col not in columns_to_exclude]\n",
    "\n",
    "# Create a new DataFrame with the remaining numeric columns\n",
    "result_df = original_df[filtered_numeric_columns]\n",
    "\n",
    "plt.figure(figsize=(12,6))\n",
    "sns.boxplot(data=result_df)\n",
    "plt.title(\"Boxplot Before Removing Outliers\")\n",
    "plt.xticks(rotation=45)\n",
    "plt.show()"
   ]
  },
  {
   "cell_type": "code",
   "execution_count": 21,
   "id": "8d8673ac-f455-4cfc-86d6-0cb3ad254487",
   "metadata": {},
   "outputs": [],
   "source": [
    "def remove_outliers_iqr(df):\n",
    "    df_filtered = df.copy()\n",
    "\n",
    "    # For each numeric column, Q1 and Q3 are calculated using quantile(), and then IQR is computed.\n",
    "    \n",
    "    for column in numeric_columns:\n",
    "        Q1 = df_filtered[column].quantile(0.25)  # First quartile (25th percentile)\n",
    "        Q3 = df_filtered[column].quantile(0.75)  # Third quartile (75th percentile)\n",
    "        IQR = Q3 - Q1  # Interquartile range\n",
    "        \n",
    "        # Define bounds for outliers\n",
    "        # The lower and upper bounds for identifying outliers are established.\n",
    "        lower_bound = Q1 - 1.5 * IQR\n",
    "        upper_bound = Q3 + 1.5 * IQR\n",
    "        \n",
    "        # Remove outliers\n",
    "        # Rows containing outliers are removed based on these bounds\n",
    "        df_filtered = df_filtered[(df_filtered[column] >= lower_bound) & (df_filtered[column] <= upper_bound)]\n",
    "\n",
    "    # Cleaned DataFrame without outliers is returned\n",
    "    return df_filtered"
   ]
  },
  {
   "cell_type": "code",
   "execution_count": 22,
   "id": "1c9a9a33-7ae5-40a0-96d6-5faaf3c00947",
   "metadata": {},
   "outputs": [],
   "source": [
    "cleaned_df = remove_outliers_iqr(original_df)"
   ]
  },
  {
   "cell_type": "code",
   "execution_count": 23,
   "id": "6f2e16fe-7908-4443-b0ae-a5b945d4df21",
   "metadata": {},
   "outputs": [
    {
     "name": "stdout",
     "output_type": "stream",
     "text": [
      "Original dataset shape: (1000000, 16)\n",
      "Dataset shape after IQR cleaning: (978015, 16)\n"
     ]
    }
   ],
   "source": [
    "print(\"Original dataset shape:\", original_df.shape)\n",
    "print(\"Dataset shape after IQR cleaning:\", cleaned_df.shape)"
   ]
  },
  {
   "cell_type": "code",
   "execution_count": 24,
   "id": "34a3919a-c604-4559-b3d6-a25091cd895f",
   "metadata": {},
   "outputs": [
    {
     "data": {
      "image/png": "[encoded data removed]",
      "text/plain": [
       "<Figure size 1200x600 with 1 Axes>"
      ]
     },
     "metadata": {},
     "output_type": "display_data"
    }
   ],
   "source": [
    "result_df1 = cleaned_df[filtered_numeric_columns]\n",
    "# Boxplot after cleaning\n",
    "plt.figure(figsize=(12,6))\n",
    "sns.boxplot(data=result_df1)\n",
    "plt.title(\"Boxplot After Removing Outliers\")\n",
    "plt.xticks(rotation=45)\n",
    "plt.show()"
   ]
  },
  {
   "cell_type": "markdown",
   "id": "fd988fff-7410-4d3d-8fde-136ec6708e69",
   "metadata": {},
   "source": [
    "**Rationale**: Outlier management assures the robustness of analyses, as they can detrimentally affect interpretations and model accuracy. Ensure that the dataset has enough data points after removing outliers; if too many rows are removed, consider adjusting the IQR multiplier or using alternative methods like Z-score or robust statistical techniques."
   ]
  },
  {
   "cell_type": "markdown",
   "id": "2b1d6060-9e0a-437d-9ea6-cb883e22ab63",
   "metadata": {},
   "source": [
    "### Data Preprocessing\n",
    "\n",
    "**Standardization**, also known as Z-score normalization, involves rescaling the data such that it has a mean **(μ) of 0** and a standard deviation **(σ) of 1**.\n",
    "\n",
    "This transformation allows the data to be centered around zero, which is particularly useful for algorithms that assume normal distribution or rely on distance metrics. Standardization, is beneficial in scenarios where the dataset contains features with different units or scales.\n",
    "\n",
    "**Normalization**, often referred to as Min-Max scaling, rescales the features to a specific range, typically **[0, 1]**. In this method, the minimum and maximum values in the dataset are used to ensure that all features contribute equally to the computation.\n",
    "\n",
    "One key difference between these two techniques is their sensitivity to outliers. Standardization is less affected by outliers since it centers the data based on the mean and standard deviation. Normalization, however, can be significantly influenced by extreme values, as it directly uses the minimum and maximum values of the dataset, which can result in skewed scales."
   ]
  },
  {
   "cell_type": "code",
   "execution_count": 25,
   "id": "fa1b76a1-1d05-4b7e-b559-39b6ac443303",
   "metadata": {},
   "outputs": [
    {
     "data": {
      "text/html": [
       "<div>\n",
       "<style scoped>\n",
       "    .dataframe tbody tr th:only-of-type {\n",
       "        vertical-align: middle;\n",
       "    }\n",
       "\n",
       "    .dataframe tbody tr th {\n",
       "        vertical-align: top;\n",
       "    }\n",
       "\n",
       "    .dataframe thead th {\n",
       "        text-align: right;\n",
       "    }\n",
       "</style>\n",
       "<table border=\"1\" class=\"dataframe\">\n",
       "  <thead>\n",
       "    <tr style=\"text-align: right;\">\n",
       "      <th></th>\n",
       "      <th>transaction_id</th>\n",
       "      <th>timestamp</th>\n",
       "      <th>customer_id</th>\n",
       "      <th>product_id</th>\n",
       "      <th>product_category</th>\n",
       "      <th>quantity</th>\n",
       "      <th>price</th>\n",
       "      <th>discount</th>\n",
       "      <th>payment_method</th>\n",
       "      <th>customer_age</th>\n",
       "      <th>customer_location</th>\n",
       "      <th>total_amount</th>\n",
       "      <th>date</th>\n",
       "      <th>customer_gender_female</th>\n",
       "      <th>customer_gender_male</th>\n",
       "      <th>customer_gender_other</th>\n",
       "    </tr>\n",
       "  </thead>\n",
       "  <tbody>\n",
       "    <tr>\n",
       "      <th>0</th>\n",
       "      <td>1</td>\n",
       "      <td>2023-01-01T00:00:00</td>\n",
       "      <td>1993</td>\n",
       "      <td>915</td>\n",
       "      <td>home &amp; kitchen</td>\n",
       "      <td>0.875</td>\n",
       "      <td>0.198586</td>\n",
       "      <td>0.46</td>\n",
       "      <td>gift card</td>\n",
       "      <td>0.176471</td>\n",
       "      <td>north america</td>\n",
       "      <td>0.208064</td>\n",
       "      <td>2023-01-01</td>\n",
       "      <td>True</td>\n",
       "      <td>False</td>\n",
       "      <td>False</td>\n",
       "    </tr>\n",
       "    <tr>\n",
       "      <th>1</th>\n",
       "      <td>2</td>\n",
       "      <td>2023-01-01T00:01:00</td>\n",
       "      <td>3474</td>\n",
       "      <td>553</td>\n",
       "      <td>clothing</td>\n",
       "      <td>1.000</td>\n",
       "      <td>0.354101</td>\n",
       "      <td>0.62</td>\n",
       "      <td>gift card</td>\n",
       "      <td>0.686275</td>\n",
       "      <td>south america</td>\n",
       "      <td>0.366699</td>\n",
       "      <td>2023-01-01</td>\n",
       "      <td>False</td>\n",
       "      <td>False</td>\n",
       "      <td>True</td>\n",
       "    </tr>\n",
       "    <tr>\n",
       "      <th>2</th>\n",
       "      <td>3</td>\n",
       "      <td>2023-01-01T00:02:00</td>\n",
       "      <td>4564</td>\n",
       "      <td>248</td>\n",
       "      <td>beauty &amp; personal care</td>\n",
       "      <td>0.750</td>\n",
       "      <td>0.154707</td>\n",
       "      <td>0.54</td>\n",
       "      <td>debit card</td>\n",
       "      <td>0.313725</td>\n",
       "      <td>north america</td>\n",
       "      <td>0.136016</td>\n",
       "      <td>2023-01-01</td>\n",
       "      <td>False</td>\n",
       "      <td>False</td>\n",
       "      <td>True</td>\n",
       "    </tr>\n",
       "    <tr>\n",
       "      <th>3</th>\n",
       "      <td>4</td>\n",
       "      <td>2023-01-01T00:03:00</td>\n",
       "      <td>1133</td>\n",
       "      <td>948</td>\n",
       "      <td>clothing</td>\n",
       "      <td>0.250</td>\n",
       "      <td>0.465051</td>\n",
       "      <td>0.00</td>\n",
       "      <td>debit card</td>\n",
       "      <td>0.627451</td>\n",
       "      <td>australia</td>\n",
       "      <td>0.230805</td>\n",
       "      <td>2023-01-01</td>\n",
       "      <td>False</td>\n",
       "      <td>False</td>\n",
       "      <td>True</td>\n",
       "    </tr>\n",
       "    <tr>\n",
       "      <th>4</th>\n",
       "      <td>5</td>\n",
       "      <td>2023-01-01T00:04:00</td>\n",
       "      <td>3626</td>\n",
       "      <td>284</td>\n",
       "      <td>books</td>\n",
       "      <td>1.000</td>\n",
       "      <td>0.905051</td>\n",
       "      <td>0.68</td>\n",
       "      <td>credit card</td>\n",
       "      <td>0.098039</td>\n",
       "      <td>australia</td>\n",
       "      <td>0.882543</td>\n",
       "      <td>2023-01-01</td>\n",
       "      <td>True</td>\n",
       "      <td>False</td>\n",
       "      <td>False</td>\n",
       "    </tr>\n",
       "  </tbody>\n",
       "</table>\n",
       "</div>"
      ],
      "text/plain": [
       "   transaction_id            timestamp  customer_id  product_id  \\\n",
       "0               1  2023-01-01T00:00:00         1993         915   \n",
       "1               2  2023-01-01T00:01:00         3474         553   \n",
       "2               3  2023-01-01T00:02:00         4564         248   \n",
       "3               4  2023-01-01T00:03:00         1133         948   \n",
       "4               5  2023-01-01T00:04:00         3626         284   \n",
       "\n",
       "         product_category  quantity     price  discount payment_method  \\\n",
       "0          home & kitchen     0.875  0.198586      0.46      gift card   \n",
       "1                clothing     1.000  0.354101      0.62      gift card   \n",
       "2  beauty & personal care     0.750  0.154707      0.54     debit card   \n",
       "3                clothing     0.250  0.465051      0.00     debit card   \n",
       "4                   books     1.000  0.905051      0.68    credit card   \n",
       "\n",
       "   customer_age customer_location  total_amount        date  \\\n",
       "0      0.176471     north america      0.208064  2023-01-01   \n",
       "1      0.686275     south america      0.366699  2023-01-01   \n",
       "2      0.313725     north america      0.136016  2023-01-01   \n",
       "3      0.627451         australia      0.230805  2023-01-01   \n",
       "4      0.098039         australia      0.882543  2023-01-01   \n",
       "\n",
       "   customer_gender_female  customer_gender_male  customer_gender_other  \n",
       "0                    True                 False                  False  \n",
       "1                   False                 False                   True  \n",
       "2                   False                 False                   True  \n",
       "3                   False                 False                   True  \n",
       "4                    True                 False                  False  "
      ]
     },
     "execution_count": 25,
     "metadata": {},
     "output_type": "execute_result"
    }
   ],
   "source": [
    "# rescales the data to a fixed range, typically [0, 1]. \n",
    "# to maintain data integrity and prevent anomalies during data operations\n",
    "# identify numerical columns \n",
    "# result_df = original_df[filtered_numeric_columns]\n",
    "\n",
    "numeric_cols_cleaned = cleaned_df.select_dtypes(include=[np.number]).columns.tolist()\n",
    "\n",
    "# identify categorical columns\n",
    "categorical_cols = cleaned_df.select_dtypes(include=['object', 'category']).columns.tolist()\n",
    "\n",
    "cols_to_normalize = ['quantity', 'price', 'discount', 'customer_age', 'total_amount']\n",
    "\n",
    "# Normalizing numerical columns\n",
    "scaler = MinMaxScaler()\n",
    "cleaned_df[cols_to_normalize] = scaler.fit_transform(cleaned_df[cols_to_normalize])\n",
    "\n",
    "# Display the normalized DataFrame\n",
    "cleaned_df.head()"
   ]
  },
  {
   "cell_type": "code",
   "execution_count": 26,
   "id": "238acafc-8675-4e2f-a83c-8cc43f4623ca",
   "metadata": {},
   "outputs": [
    {
     "data": {
      "text/html": [
       "<div>\n",
       "<style scoped>\n",
       "    .dataframe tbody tr th:only-of-type {\n",
       "        vertical-align: middle;\n",
       "    }\n",
       "\n",
       "    .dataframe tbody tr th {\n",
       "        vertical-align: top;\n",
       "    }\n",
       "\n",
       "    .dataframe thead th {\n",
       "        text-align: right;\n",
       "    }\n",
       "</style>\n",
       "<table border=\"1\" class=\"dataframe\">\n",
       "  <thead>\n",
       "    <tr style=\"text-align: right;\">\n",
       "      <th></th>\n",
       "      <th>quantity</th>\n",
       "      <th>price</th>\n",
       "      <th>discount</th>\n",
       "      <th>customer_age</th>\n",
       "      <th>total_amount</th>\n",
       "    </tr>\n",
       "  </thead>\n",
       "  <tbody>\n",
       "    <tr>\n",
       "      <th>count</th>\n",
       "      <td>978015.000000</td>\n",
       "      <td>978015.000000</td>\n",
       "      <td>978015.000000</td>\n",
       "      <td>978015.000000</td>\n",
       "      <td>978015.000000</td>\n",
       "    </tr>\n",
       "    <tr>\n",
       "      <th>mean</th>\n",
       "      <td>0.490517</td>\n",
       "      <td>0.490897</td>\n",
       "      <td>0.507241</td>\n",
       "      <td>0.500221</td>\n",
       "      <td>0.291615</td>\n",
       "    </tr>\n",
       "    <tr>\n",
       "      <th>std</th>\n",
       "      <td>0.319139</td>\n",
       "      <td>0.285264</td>\n",
       "      <td>0.287515</td>\n",
       "      <td>0.294293</td>\n",
       "      <td>0.238446</td>\n",
       "    </tr>\n",
       "    <tr>\n",
       "      <th>min</th>\n",
       "      <td>0.000000</td>\n",
       "      <td>0.000000</td>\n",
       "      <td>0.000000</td>\n",
       "      <td>0.000000</td>\n",
       "      <td>0.000000</td>\n",
       "    </tr>\n",
       "    <tr>\n",
       "      <th>25%</th>\n",
       "      <td>0.250000</td>\n",
       "      <td>0.244323</td>\n",
       "      <td>0.260000</td>\n",
       "      <td>0.254902</td>\n",
       "      <td>0.094477</td>\n",
       "    </tr>\n",
       "    <tr>\n",
       "      <th>50%</th>\n",
       "      <td>0.500000</td>\n",
       "      <td>0.489232</td>\n",
       "      <td>0.520000</td>\n",
       "      <td>0.509804</td>\n",
       "      <td>0.226688</td>\n",
       "    </tr>\n",
       "    <tr>\n",
       "      <th>75%</th>\n",
       "      <td>0.750000</td>\n",
       "      <td>0.733758</td>\n",
       "      <td>0.760000</td>\n",
       "      <td>0.764706</td>\n",
       "      <td>0.438540</td>\n",
       "    </tr>\n",
       "    <tr>\n",
       "      <th>max</th>\n",
       "      <td>1.000000</td>\n",
       "      <td>1.000000</td>\n",
       "      <td>1.000000</td>\n",
       "      <td>1.000000</td>\n",
       "      <td>1.000000</td>\n",
       "    </tr>\n",
       "  </tbody>\n",
       "</table>\n",
       "</div>"
      ],
      "text/plain": [
       "            quantity          price       discount   customer_age  \\\n",
       "count  978015.000000  978015.000000  978015.000000  978015.000000   \n",
       "mean        0.490517       0.490897       0.507241       0.500221   \n",
       "std         0.319139       0.285264       0.287515       0.294293   \n",
       "min         0.000000       0.000000       0.000000       0.000000   \n",
       "25%         0.250000       0.244323       0.260000       0.254902   \n",
       "50%         0.500000       0.489232       0.520000       0.509804   \n",
       "75%         0.750000       0.733758       0.760000       0.764706   \n",
       "max         1.000000       1.000000       1.000000       1.000000   \n",
       "\n",
       "        total_amount  \n",
       "count  978015.000000  \n",
       "mean        0.291615  \n",
       "std         0.238446  \n",
       "min         0.000000  \n",
       "25%         0.094477  \n",
       "50%         0.226688  \n",
       "75%         0.438540  \n",
       "max         1.000000  "
      ]
     },
     "execution_count": 26,
     "metadata": {},
     "output_type": "execute_result"
    }
   ],
   "source": [
    "# Descriptive stat after standardization\n",
    "cleaned_df[['quantity', 'price', 'discount', 'customer_age', 'total_amount']].describe()\n"
   ]
  },
  {
   "cell_type": "markdown",
   "id": "d52a62fc-3d2b-4896-8e0e-7f8f3b06478c",
   "metadata": {},
   "source": [
    "**Rationale**: ___Standardization___ involves converting data into a consistent format, which helps eliminate discrepancies and improve accuracy, while ___Normalization___ organizes data to reduce redundancy and enhance integrity. By applying these processes initially, you ensure that the data is clean and uniform, making subsequent transformations more reliable and meaningful for analysis. This approach not only enhances data quality but also facilitates better performance in data processing and compatibility with analytical tools, ultimately leading to more accurate insights and decisions.\n",
    "\n",
    "It also is effective to first standardize or normalize your data before performing transformations to achieve a normal-like distribution."
   ]
  },
  {
   "cell_type": "code",
   "execution_count": null,
   "id": "f649daf3-6665-4993-a046-933d831d04b5",
   "metadata": {},
   "outputs": [],
   "source": []
  },
  {
   "cell_type": "code",
   "execution_count": null,
   "id": "2085139b-20b5-46cf-b929-23b685bd3af8",
   "metadata": {},
   "outputs": [],
   "source": []
  }
 ],
 "metadata": {
  "kernelspec": {
   "display_name": "Python 3 (ipykernel)",
   "language": "python",
   "name": "python3"
  },
  "language_info": {
   "codemirror_mode": {
    "name": "ipython",
    "version": 3
   },
   "file_extension": ".py",
   "mimetype": "text/x-python",
   "name": "python",
   "nbconvert_exporter": "python",
   "pygments_lexer": "ipython3",
   "version": "3.9.6"
  }
 },
 "nbformat": 4,
 "nbformat_minor": 5
}
