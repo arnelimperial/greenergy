{
 "cells": [
  {
   "cell_type": "markdown",
   "id": "422ab191-fbde-471e-afbc-76a0f44985d0",
   "metadata": {},
   "source": [
    "<h2>Socio-economic Impact on Green Jobs: An EDA Approach </h2>"
   ]
  },
  {
   "cell_type": "code",
   "execution_count": 1,
   "id": "84ccf08f-9655-429c-904d-0807d8b63faa",
   "metadata": {},
   "outputs": [],
   "source": [
    "import pandas as pd\n",
    "import numpy as np\n",
    "import matplotlib.pyplot as plt\n",
    "%matplotlib inline\n",
    "import seaborn as sns"
   ]
  },
  {
   "cell_type": "code",
   "execution_count": 2,
   "id": "c080eea8-8562-45c7-9263-b4c5c287e24b",
   "metadata": {},
   "outputs": [],
   "source": [
    "import statsmodels.api as sm\n",
    "import statsmodels.formula.api as smf\n",
    "from scipy import stats\n",
    "import scipy.stats as stats\n",
    "from scipy.stats import pearsonr\n",
    "from scipy.stats import shapiro, kstest, normaltest, kruskal, friedmanchisquare, mannwhitneyu\n",
    "import scikit_posthocs as sp"
   ]
  },
  {
   "cell_type": "code",
   "execution_count": 3,
   "id": "148e33f1-608a-493a-b88c-9414618a1a09",
   "metadata": {},
   "outputs": [],
   "source": [
    "from sklearn.preprocessing import StandardScaler\n",
    "from sklearn.model_selection import train_test_split\n",
    "from sklearn.linear_model import LinearRegression\n",
    "from sklearn.tree import DecisionTreeRegressor\n",
    "from sklearn.ensemble import RandomForestRegressor, GradientBoostingRegressor\n",
    "from sklearn.svm import SVR\n",
    "from sklearn.neural_network import MLPRegressor\n",
    "from sklearn.metrics import mean_squared_error, r2_score\n",
    "from sklearn.model_selection import cross_val_score\n",
    "from sklearn.preprocessing import LabelEncoder"
   ]
  },
  {
   "cell_type": "code",
   "execution_count": 4,
   "id": "24ade0ae-04fc-4d2f-b93e-4ff235fa08f7",
   "metadata": {},
   "outputs": [],
   "source": [
    "# Set visual display settings\n",
    "sns.set(style='whitegrid')"
   ]
  },
  {
   "cell_type": "code",
   "execution_count": null,
   "id": "e5429443-0dba-4021-b6c7-74c859a55cee",
   "metadata": {},
   "outputs": [],
   "source": []
  },
  {
   "cell_type": "code",
   "execution_count": null,
   "id": "984efd9c-4197-44ed-b906-5d4efc976b90",
   "metadata": {},
   "outputs": [],
   "source": []
  },
  {
   "cell_type": "code",
   "execution_count": 5,
   "id": "90c4adf9-1676-45b8-a4f1-0a1b5ae9d2cb",
   "metadata": {},
   "outputs": [],
   "source": [
    "# load csv\n",
    "df = pd.read_csv('complete_renewable_energy_dataset 2.csv')"
   ]
  },
  {
   "cell_type": "code",
   "execution_count": 6,
   "id": "dffeaed5-d79d-41dc-9518-4007b245a3b6",
   "metadata": {},
   "outputs": [
    {
     "data": {
      "text/html": [
       "<div>\n",
       "<style scoped>\n",
       "    .dataframe tbody tr th:only-of-type {\n",
       "        vertical-align: middle;\n",
       "    }\n",
       "\n",
       "    .dataframe tbody tr th {\n",
       "        vertical-align: top;\n",
       "    }\n",
       "\n",
       "    .dataframe thead th {\n",
       "        text-align: right;\n",
       "    }\n",
       "</style>\n",
       "<table border=\"1\" class=\"dataframe\">\n",
       "  <thead>\n",
       "    <tr style=\"text-align: right;\">\n",
       "      <th></th>\n",
       "      <th>Country</th>\n",
       "      <th>Year</th>\n",
       "      <th>Energy Type</th>\n",
       "      <th>Production (GWh)</th>\n",
       "      <th>Installed Capacity (MW)</th>\n",
       "      <th>Investments (USD)</th>\n",
       "      <th>Population</th>\n",
       "      <th>GDP</th>\n",
       "      <th>Energy Consumption</th>\n",
       "      <th>Energy Exports</th>\n",
       "      <th>...</th>\n",
       "      <th>Economic Freedom Index</th>\n",
       "      <th>Ease of Doing Business</th>\n",
       "      <th>Innovation Index</th>\n",
       "      <th>Number of Research Institutions</th>\n",
       "      <th>Number of Renewable Energy Conferences</th>\n",
       "      <th>Number of Renewable Energy Publications</th>\n",
       "      <th>Energy Sector Workforce</th>\n",
       "      <th>Proportion of Energy from Renewables</th>\n",
       "      <th>Public-Private Partnerships in Energy</th>\n",
       "      <th>Regional Renewable Energy Cooperation</th>\n",
       "    </tr>\n",
       "  </thead>\n",
       "  <tbody>\n",
       "    <tr>\n",
       "      <th>0</th>\n",
       "      <td>USA</td>\n",
       "      <td>2011</td>\n",
       "      <td>Solar</td>\n",
       "      <td>85404.690027</td>\n",
       "      <td>5549.794323</td>\n",
       "      <td>5.604125e+09</td>\n",
       "      <td>1064007213</td>\n",
       "      <td>1.775278e+14</td>\n",
       "      <td>369654.644184</td>\n",
       "      <td>93087.198199</td>\n",
       "      <td>...</td>\n",
       "      <td>49.216800</td>\n",
       "      <td>57.678605</td>\n",
       "      <td>76.803228</td>\n",
       "      <td>851</td>\n",
       "      <td>75</td>\n",
       "      <td>6361</td>\n",
       "      <td>511658</td>\n",
       "      <td>25.907895</td>\n",
       "      <td>1</td>\n",
       "      <td>0</td>\n",
       "    </tr>\n",
       "    <tr>\n",
       "      <th>1</th>\n",
       "      <td>Australia</td>\n",
       "      <td>2008</td>\n",
       "      <td>Geothermal</td>\n",
       "      <td>22205.069382</td>\n",
       "      <td>43211.593798</td>\n",
       "      <td>6.361886e+08</td>\n",
       "      <td>1033255852</td>\n",
       "      <td>6.435372e+13</td>\n",
       "      <td>771781.636293</td>\n",
       "      <td>1752.536054</td>\n",
       "      <td>...</td>\n",
       "      <td>79.990942</td>\n",
       "      <td>1.761579</td>\n",
       "      <td>48.697825</td>\n",
       "      <td>590</td>\n",
       "      <td>39</td>\n",
       "      <td>9752</td>\n",
       "      <td>974948</td>\n",
       "      <td>95.003547</td>\n",
       "      <td>0</td>\n",
       "      <td>1</td>\n",
       "    </tr>\n",
       "    <tr>\n",
       "      <th>2</th>\n",
       "      <td>Canada</td>\n",
       "      <td>2013</td>\n",
       "      <td>Biomass</td>\n",
       "      <td>94102.732038</td>\n",
       "      <td>6139.117212</td>\n",
       "      <td>6.158680e+09</td>\n",
       "      <td>14895124</td>\n",
       "      <td>1.567926e+14</td>\n",
       "      <td>342707.152899</td>\n",
       "      <td>65146.592498</td>\n",
       "      <td>...</td>\n",
       "      <td>94.374040</td>\n",
       "      <td>77.657334</td>\n",
       "      <td>67.334813</td>\n",
       "      <td>101</td>\n",
       "      <td>7</td>\n",
       "      <td>311</td>\n",
       "      <td>326318</td>\n",
       "      <td>67.354539</td>\n",
       "      <td>1</td>\n",
       "      <td>0</td>\n",
       "    </tr>\n",
       "    <tr>\n",
       "      <th>3</th>\n",
       "      <td>Japan</td>\n",
       "      <td>2010</td>\n",
       "      <td>Biomass</td>\n",
       "      <td>88771.932910</td>\n",
       "      <td>40323.639260</td>\n",
       "      <td>8.526116e+09</td>\n",
       "      <td>1448827283</td>\n",
       "      <td>1.350464e+14</td>\n",
       "      <td>498839.574253</td>\n",
       "      <td>50257.591014</td>\n",
       "      <td>...</td>\n",
       "      <td>65.143472</td>\n",
       "      <td>44.987734</td>\n",
       "      <td>4.544289</td>\n",
       "      <td>327</td>\n",
       "      <td>3</td>\n",
       "      <td>7708</td>\n",
       "      <td>506078</td>\n",
       "      <td>33.754104</td>\n",
       "      <td>0</td>\n",
       "      <td>0</td>\n",
       "    </tr>\n",
       "    <tr>\n",
       "      <th>4</th>\n",
       "      <td>China</td>\n",
       "      <td>2018</td>\n",
       "      <td>Solar</td>\n",
       "      <td>93288.408581</td>\n",
       "      <td>30755.403056</td>\n",
       "      <td>5.086237e+09</td>\n",
       "      <td>1499494307</td>\n",
       "      <td>8.677956e+13</td>\n",
       "      <td>819064.362785</td>\n",
       "      <td>63101.395562</td>\n",
       "      <td>...</td>\n",
       "      <td>86.213626</td>\n",
       "      <td>62.535223</td>\n",
       "      <td>10.287199</td>\n",
       "      <td>985</td>\n",
       "      <td>69</td>\n",
       "      <td>4919</td>\n",
       "      <td>187964</td>\n",
       "      <td>59.509228</td>\n",
       "      <td>1</td>\n",
       "      <td>0</td>\n",
       "    </tr>\n",
       "  </tbody>\n",
       "</table>\n",
       "<p>5 rows × 56 columns</p>\n",
       "</div>"
      ],
      "text/plain": [
       "     Country  Year Energy Type  Production (GWh)  Installed Capacity (MW)  \\\n",
       "0        USA  2011       Solar      85404.690027              5549.794323   \n",
       "1  Australia  2008  Geothermal      22205.069382             43211.593798   \n",
       "2     Canada  2013     Biomass      94102.732038              6139.117212   \n",
       "3      Japan  2010     Biomass      88771.932910             40323.639260   \n",
       "4      China  2018       Solar      93288.408581             30755.403056   \n",
       "\n",
       "   Investments (USD)  Population           GDP  Energy Consumption  \\\n",
       "0       5.604125e+09  1064007213  1.775278e+14       369654.644184   \n",
       "1       6.361886e+08  1033255852  6.435372e+13       771781.636293   \n",
       "2       6.158680e+09    14895124  1.567926e+14       342707.152899   \n",
       "3       8.526116e+09  1448827283  1.350464e+14       498839.574253   \n",
       "4       5.086237e+09  1499494307  8.677956e+13       819064.362785   \n",
       "\n",
       "   Energy Exports  ...  Economic Freedom Index  Ease of Doing Business  \\\n",
       "0    93087.198199  ...               49.216800               57.678605   \n",
       "1     1752.536054  ...               79.990942                1.761579   \n",
       "2    65146.592498  ...               94.374040               77.657334   \n",
       "3    50257.591014  ...               65.143472               44.987734   \n",
       "4    63101.395562  ...               86.213626               62.535223   \n",
       "\n",
       "   Innovation Index  Number of Research Institutions  \\\n",
       "0         76.803228                              851   \n",
       "1         48.697825                              590   \n",
       "2         67.334813                              101   \n",
       "3          4.544289                              327   \n",
       "4         10.287199                              985   \n",
       "\n",
       "   Number of Renewable Energy Conferences  \\\n",
       "0                                      75   \n",
       "1                                      39   \n",
       "2                                       7   \n",
       "3                                       3   \n",
       "4                                      69   \n",
       "\n",
       "   Number of Renewable Energy Publications  Energy Sector Workforce  \\\n",
       "0                                     6361                   511658   \n",
       "1                                     9752                   974948   \n",
       "2                                      311                   326318   \n",
       "3                                     7708                   506078   \n",
       "4                                     4919                   187964   \n",
       "\n",
       "   Proportion of Energy from Renewables  \\\n",
       "0                             25.907895   \n",
       "1                             95.003547   \n",
       "2                             67.354539   \n",
       "3                             33.754104   \n",
       "4                             59.509228   \n",
       "\n",
       "   Public-Private Partnerships in Energy  \\\n",
       "0                                      1   \n",
       "1                                      0   \n",
       "2                                      1   \n",
       "3                                      0   \n",
       "4                                      1   \n",
       "\n",
       "   Regional Renewable Energy Cooperation  \n",
       "0                                      0  \n",
       "1                                      1  \n",
       "2                                      0  \n",
       "3                                      0  \n",
       "4                                      0  \n",
       "\n",
       "[5 rows x 56 columns]"
      ]
     },
     "execution_count": 6,
     "metadata": {},
     "output_type": "execute_result"
    }
   ],
   "source": [
    "df.head()"
   ]
  },
  {
   "cell_type": "code",
   "execution_count": 7,
   "id": "7d1cb7ba-bada-4e92-9bf9-19b233e8b159",
   "metadata": {},
   "outputs": [],
   "source": [
    "# Data Cleaning\n",
    "# df = df.drop_duplicates(inplace=True)\n",
    "# print(df.isnull().sum())\n",
    "# data.fillna(method='ffill', inplace=True)  # Forward fill for missing values\n",
    "df = df.drop_duplicates()"
   ]
  },
  {
   "cell_type": "code",
   "execution_count": null,
   "id": "6e7e5d37-673e-4052-aa1f-4ab7f5bdc53b",
   "metadata": {},
   "outputs": [],
   "source": []
  },
  {
   "cell_type": "code",
   "execution_count": null,
   "id": "f3e7fe35-3f8f-4832-a6b9-73d346952296",
   "metadata": {},
   "outputs": [],
   "source": []
  },
  {
   "cell_type": "markdown",
   "id": "33f441d3-0a28-464d-a28b-1852d990c257",
   "metadata": {},
   "source": [
    "<h4>Normalize Dataset</h4>"
   ]
  },
  {
   "cell_type": "code",
   "execution_count": 8,
   "id": "0c59a3e0-1b4b-4275-b8be-11160440767d",
   "metadata": {},
   "outputs": [],
   "source": [
    "# For normalization; not included in the study\n",
    "# Remove categorical columns\n",
    "cat_cols = ['Year', 'Country', 'Energy Type']\n",
    "numeric_df = df.drop(cat_cols, axis=1)\n",
    "\n",
    "# Normalize the numeric columns\n",
    "scaler = StandardScaler()\n",
    "df_normalized = scaler.fit_transform(numeric_df)\n",
    "\n",
    "# Convert the normalized data back to a DataFrame\n",
    "normalized_df = pd.DataFrame(df_normalized, columns=numeric_df.columns)\n",
    "\n",
    "# Add back the categorical columns\n",
    "normalized_df = pd.concat([df[cat_cols], normalized_df], axis=1)"
   ]
  },
  {
   "cell_type": "code",
   "execution_count": null,
   "id": "8c4db159-2b94-4b02-a3ae-fde48c9ccd7e",
   "metadata": {},
   "outputs": [],
   "source": []
  },
  {
   "cell_type": "code",
   "execution_count": null,
   "id": "bd6655e2-d268-4ab7-8b9a-2e2b7cf7113f",
   "metadata": {},
   "outputs": [],
   "source": []
  },
  {
   "cell_type": "markdown",
   "id": "c526bb25-6f67-4f22-a31a-07ff5543d61b",
   "metadata": {},
   "source": [
    "<h4>Sampling</h4>"
   ]
  },
  {
   "cell_type": "code",
   "execution_count": 9,
   "id": "cea8d69f-4bc2-4da8-b154-fafe81536d4b",
   "metadata": {},
   "outputs": [],
   "source": [
    "# Random sample dataset rows\n",
    "random_sample_seed = df.sample(n=400, random_state=42)\n",
    "# df = random_sample_seed\n",
    "\n",
    "norm_sample_df = normalized_df.sample(n=400, random_state=42)"
   ]
  },
  {
   "cell_type": "code",
   "execution_count": null,
   "id": "79c751e0-3f1f-4d42-96a9-efd25056d179",
   "metadata": {},
   "outputs": [],
   "source": []
  },
  {
   "cell_type": "code",
   "execution_count": null,
   "id": "c994ec83-de4a-4f18-b714-437bd6c4c505",
   "metadata": {},
   "outputs": [],
   "source": []
  },
  {
   "cell_type": "markdown",
   "id": "61e1d56b-4eca-45be-a2bd-64a9f44963d1",
   "metadata": {},
   "source": [
    "<h4>Statistical Analysis</h4>"
   ]
  },
  {
   "cell_type": "code",
   "execution_count": 10,
   "id": "01246b55-0c8b-4f07-b782-7d2b969b702d",
   "metadata": {},
   "outputs": [],
   "source": [
    "# Remove categorical columns\n",
    "cat_cols = ['Year', 'Country', 'Energy Type']\n",
    "numeric_df = df.drop(cat_cols, axis=1)"
   ]
  },
  {
   "cell_type": "code",
   "execution_count": 11,
   "id": "97d470fd-ab57-415a-936d-03adb405fc1b",
   "metadata": {},
   "outputs": [],
   "source": [
    "indicators = numeric_df[['GDP', 'Renewable Energy Jobs', 'Innovation Index', \n",
    "                      'Industrialization Rate', 'Production (GWh)']]"
   ]
  },
  {
   "cell_type": "code",
   "execution_count": null,
   "id": "ca39e749-dd53-4d53-b994-d23572986c30",
   "metadata": {},
   "outputs": [],
   "source": []
  },
  {
   "cell_type": "markdown",
   "id": "2e122159-d0f8-4ab0-897c-f83bba8afc3c",
   "metadata": {},
   "source": [
    "<h5>Test for Normal Distribution</h5>"
   ]
  },
  {
   "cell_type": "code",
   "execution_count": 12,
   "id": "e0537b8d-ae5a-4813-9640-0244e1c219c2",
   "metadata": {},
   "outputs": [
    {
     "name": "stdout",
     "output_type": "stream",
     "text": [
      "GDP: Statistic = 2592.9827, p-value = 0.0000\n",
      "Renewable Energy Jobs: Statistic = 2045.2448, p-value = 0.0000\n",
      "Innovation Index: Statistic = 1783.3886, p-value = 0.0000\n",
      "Industrialization Rate: Statistic = 2076.7729, p-value = 0.0000\n",
      "Production (GWh): Statistic = 1793.5673, p-value = 0.0000\n"
     ]
    }
   ],
   "source": [
    "# Non-Parametric\n",
    "# Perform D'Agostino's K-squared test on each column (indicators)\n",
    "results = {}\n",
    "for column in indicators.columns:\n",
    "    stat, p_value = normaltest(indicators[column])\n",
    "    results[column] = {'Statistic': stat, 'p-value': p_value}\n",
    "\n",
    "# Display results\n",
    "for column, result in results.items():\n",
    "    print(f\"{column}: Statistic = {result['Statistic']:.4f}, p-value = {result['p-value']:.4f}\")\n",
    "\n",
    "# Interpretation of D'Agostino's K-squared test\n",
    "# If the p-value is less than significance level (commonly set at 0.05), \n",
    "# you reject the null hypothesis and conclude that the data does not follow \n",
    "# a normal distribution."
   ]
  },
  {
   "cell_type": "markdown",
   "id": "f0581544-1995-4a2d-b05f-5afd6dbed146",
   "metadata": {},
   "source": [
    "<h5>LOWESS</h5>"
   ]
  },
  {
   "cell_type": "code",
   "execution_count": 13,
   "id": "5a00b5c6-4569-4952-8215-be5e25b9336f",
   "metadata": {},
   "outputs": [
    {
     "data": {
      "image/png": "[encoded data removed]",
      "text/plain": [
       "<Figure size 600x400 with 1 Axes>"
      ]
     },
     "metadata": {},
     "output_type": "display_data"
    }
   ],
   "source": [
    "# Fit LOWESS to the data\n",
    "lowess = sm.nonparametric.lowess(df['Renewable Energy Jobs'], df['GDP'], frac=0.3)\n",
    "\n",
    "# Plotting results\n",
    "plt.figure(figsize=(6, 4))\n",
    "plt.scatter(random_sample_seed['GDP'], random_sample_seed['Renewable Energy Jobs'], alpha=0.5, label='Observation Points')\n",
    "plt.plot(lowess[:, 0], lowess[:, 1], color='red', label='LOWESS Smoothed')\n",
    "plt.title('LOWESS Smoothing of Socioeconomic Indicator Over Years')\n",
    "plt.xlabel('GDP')\n",
    "plt.ylabel('Renewable Energy Jobs')\n",
    "plt.legend(bbox_to_anchor=(1.02, 1), loc='upper left', borderaxespad=0)\n",
    "plt.show()"
   ]
  },
  {
   "cell_type": "code",
   "execution_count": null,
   "id": "52bc0213-7e1d-4ce1-9689-8c4bd58b1f3f",
   "metadata": {},
   "outputs": [],
   "source": []
  },
  {
   "cell_type": "code",
   "execution_count": null,
   "id": "e762abc6-714b-42ee-8da3-d24dc1f5392e",
   "metadata": {},
   "outputs": [],
   "source": []
  },
  {
   "cell_type": "markdown",
   "id": "c98b3114-4c68-4de5-85fb-ad9e87e70ac5",
   "metadata": {},
   "source": [
    "<h4>Parametric test for Normality</h4>"
   ]
  },
  {
   "cell_type": "code",
   "execution_count": 16,
   "id": "70b6ea83-68f1-410f-9743-21d6c4adbb3f",
   "metadata": {},
   "outputs": [
    {
     "name": "stdout",
     "output_type": "stream",
     "text": [
      "                              OLS Regression Results                             \n",
      "=================================================================================\n",
      "Dep. Variable:     Renewable Energy Jobs   R-squared:                       0.002\n",
      "Model:                               OLS   Adj. R-squared:                  0.002\n",
      "Method:                    Least Squares   F-statistic:                     5.211\n",
      "Date:                   Mon, 23 Sep 2024   Prob (F-statistic):             0.0225\n",
      "Time:                           18:03:17   Log-Likelihood:                -34960.\n",
      "No. Observations:                   2500   AIC:                         6.992e+04\n",
      "Df Residuals:                       2498   BIC:                         6.994e+04\n",
      "Df Model:                              1                                         \n",
      "Covariance Type:               nonrobust                                         \n",
      "====================================================================================\n",
      "                       coef    std err          t      P>|t|      [0.025      0.975]\n",
      "------------------------------------------------------------------------------------\n",
      "const             5.258e+05   1.16e+04     45.505      0.000    5.03e+05    5.48e+05\n",
      "Innovation Index  -455.5637    199.561     -2.283      0.023    -846.886     -64.241\n",
      "==============================================================================\n",
      "Omnibus:                     1962.277   Durbin-Watson:                   2.020\n",
      "Prob(Omnibus):                  0.000   Jarque-Bera (JB):              149.050\n",
      "Skew:                           0.025   Prob(JB):                     4.31e-33\n",
      "Kurtosis:                       1.805   Cond. No.                         117.\n",
      "==============================================================================\n",
      "\n",
      "Notes:\n",
      "[1] Standard Errors assume that the covariance matrix of the errors is correctly specified.\n"
     ]
    }
   ],
   "source": [
    "# Simple Linear Regression\n",
    "X1 = indicators['Innovation Index']\n",
    "y1 = indicators['Renewable Energy Jobs']\n",
    "X1 = sm.add_constant(X1)  # Adds a constant term to the predictor\n",
    "\n",
    "model1 = sm.OLS(y1, X1).fit()\n",
    "print(model1.summary())"
   ]
  },
  {
   "cell_type": "code",
   "execution_count": null,
   "id": "9ab8dd75-20a0-421f-aa15-d2b395e8e180",
   "metadata": {},
   "outputs": [],
   "source": []
  },
  {
   "cell_type": "code",
   "execution_count": null,
   "id": "b55f7880-b46d-43e2-9123-9870bf805d27",
   "metadata": {},
   "outputs": [],
   "source": [
    "# Plotting Linear Regression\n",
    "# Fit a Linear Regression Model\n",
    "\n",
    "# Reshape the data\n",
    "X2 = norm_sample_df['Innovation Index'].values.reshape(-1, 1) # Independent variable\n",
    "y2 = norm_sample_df['Renewable Energy Jobs'].values # Dependent variable\n",
    "\n",
    "# Create and fit the model\n",
    "model2 = LinearRegression()\n",
    "model2.fit(X2, y2)\n",
    "\n",
    "# Get the slope (coefficient) and intercept\n",
    "slope = model2.coef_[0]\n",
    "intercept = model2.intercept_"
   ]
  },
  {
   "cell_type": "code",
   "execution_count": null,
   "id": "871124e2-3069-4f1f-8ad9-72eea1c6eee9",
   "metadata": {},
   "outputs": [],
   "source": [
    "# Generate predictions\n",
    "predictions = model2.predict(X2)"
   ]
  },
  {
   "cell_type": "code",
   "execution_count": null,
   "id": "cbcf8051-ef32-4143-bffc-ef225f062197",
   "metadata": {},
   "outputs": [],
   "source": [
    "# Create scatter plot\n",
    "plt.figure(figsize=(9, 5))\n",
    "plt.scatter(norm_sample_df['Innovation Index'], norm_sample_df['Renewable Energy Jobs'], color='lightblue', label='Observation')\n",
    "\n",
    "# Plot regression line\n",
    "plt.plot(norm_sample_df['GDP'], predictions, color='red', linewidth=2, label='Regression Line')\n",
    "\n",
    "# Add titles and labels\n",
    "plt.title('Simple Linear Regression: GDP vs. Jobs')\n",
    "plt.xlabel('GDP')\n",
    "plt.ylabel('Green Jobs')\n",
    "plt.legend(bbox_to_anchor=(1.02, 1), loc='upper left', borderaxespad=0)\n",
    "plt.grid()\n",
    "\n",
    "# Show the plot\n",
    "plt.show()"
   ]
  },
  {
   "cell_type": "code",
   "execution_count": null,
   "id": "30560779-297d-4ead-bcbb-7efc09a8da70",
   "metadata": {},
   "outputs": [],
   "source": []
  },
  {
   "cell_type": "code",
   "execution_count": null,
   "id": "dae5e0bd-b30d-40d1-9bea-911bf5ac4534",
   "metadata": {},
   "outputs": [],
   "source": []
  },
  {
   "cell_type": "code",
   "execution_count": null,
   "id": "a3a50ef1-a9e1-43b4-a3c1-f69ce972693d",
   "metadata": {},
   "outputs": [],
   "source": []
  },
  {
   "cell_type": "markdown",
   "id": "d65c8d40-8c51-4094-b7ac-e910bb67a2d5",
   "metadata": {},
   "source": [
    "<h4>Non-Parametric Regression</h4>"
   ]
  },
  {
   "cell_type": "code",
   "execution_count": null,
   "id": "1542e2eb-fd8b-4508-b831-517ce27623f4",
   "metadata": {},
   "outputs": [],
   "source": []
  },
  {
   "cell_type": "code",
   "execution_count": null,
   "id": "602e39e1-a485-45aa-8662-dd97695d07e2",
   "metadata": {},
   "outputs": [],
   "source": [
    "# Prepare the data\n",
    "X3 = norm_sample_df[['GDP', 'Innovation Index', 'Industrialization Rate', 'Production (GWh)']]\n",
    "y3 = norm_sample_df['Renewable Energy Jobs']\n",
    "\n",
    "# Encode categorical variables\n",
    "encoder = LabelEncoder()\n",
    "X3['GDP'] = encoder.fit_transform(X3['GDP'])\n",
    "X3['Innovation Index'] = encoder.fit_transform(X3['Innovation Index'])\n",
    "X3['Industrialization Rate'] = encoder.fit_transform(X3['Industrialization Rate'])\n",
    "X3['Production (GWh)'] = encoder.fit_transform(X3['Production (GWh)'])\n",
    "\n",
    "# Decision Tree Regression\n",
    "dt_model = DecisionTreeRegressor()\n",
    "dt_model.fit(X3, y3)\n",
    "\n",
    "# Random Forest Regression\n",
    "rf_model = RandomForestRegressor()\n",
    "rf_model.fit(X3, y3)\n",
    "\n",
    "# Make predictions\n",
    "dt_pred = dt_model.predict(X3)\n",
    "rf_pred = rf_model.predict(X3)\n",
    "\n",
    "# Evaluate the models\n",
    "dt_mse = mean_squared_error(y3, dt_pred)\n",
    "rf_mse = mean_squared_error(y3, rf_pred)\n",
    "\n",
    "print(f'Decision Tree MSE: {dt_mse:.2f}')\n",
    "print(f'Random Forest MSE: {rf_mse:.2f}')"
   ]
  },
  {
   "cell_type": "code",
   "execution_count": null,
   "id": "63680c3e-9483-4954-94bc-ec8aa9943205",
   "metadata": {},
   "outputs": [],
   "source": []
  },
  {
   "cell_type": "code",
   "execution_count": null,
   "id": "3d8c4e71-13e3-4df2-a22c-1590674fc8e7",
   "metadata": {},
   "outputs": [],
   "source": []
  },
  {
   "cell_type": "code",
   "execution_count": null,
   "id": "d56556fa-f7b9-4020-b1a1-6f6a1dcf3f9d",
   "metadata": {},
   "outputs": [],
   "source": []
  },
  {
   "cell_type": "code",
   "execution_count": null,
   "id": "e32ce463-061a-4317-aa5d-b02f7423e284",
   "metadata": {},
   "outputs": [],
   "source": []
  },
  {
   "cell_type": "markdown",
   "id": "ffe9ffa2-759f-4510-9f44-7ba1ff26cc6d",
   "metadata": {},
   "source": [
    "<h4>Feature Importance</h4>"
   ]
  },
  {
   "cell_type": "code",
   "execution_count": null,
   "id": "e888d388-69c8-408d-b4b7-6f0c8956a114",
   "metadata": {},
   "outputs": [],
   "source": []
  },
  {
   "cell_type": "code",
   "execution_count": null,
   "id": "3ff8278d-2a00-49a3-9c64-5fc2edbae43e",
   "metadata": {},
   "outputs": [],
   "source": [
    "# Initialize LabelEncoder\n",
    "le_ir = LabelEncoder()\n",
    "le_gdp = LabelEncoder()\n",
    "le_prod = LabelEncoder()\n",
    "le_ii = LabelEncoder()\n",
    "\n",
    "# Encode categorical variables\n",
    "norm_sample_df['Industrialization Rate'] = le_ir.fit_transform(norm_sample_df['Industrialization Rate'])\n",
    "norm_sample_df['GDP'] = le_gdp.fit_transform(norm_sample_df['GDP'])\n",
    "norm_sample_df['Production (GWh)'] = le_prod.fit_transform(norm_sample_df['Production (GWh)'])\n",
    "norm_sample_df['Innovation Index'] = le_ii.fit_transform(norm_sample_df['Innovation Index'])\n",
    "\n",
    "# Check the encoding\n",
    "print(norm_sample_df[['Industrialization Rate', 'GDP', 'Production (GWh)', 'Innovation Index']].head())"
   ]
  },
  {
   "cell_type": "code",
   "execution_count": null,
   "id": "d791ddca-c9b0-49cb-97eb-9b7d047136c7",
   "metadata": {},
   "outputs": [],
   "source": [
    "# Define features and target variable\n",
    "X4 = norm_sample_df[['Industrialization Rate', 'GDP', 'Production (GWh)', 'Innovation Index']]\n",
    "y4 = norm_sample_df['Renewable Energy Jobs']\n",
    "\n",
    "# Split the data into training and testing sets\n",
    "X_train, X_test, y_train, y_test = train_test_split(X4, y4, test_size=0.2, random_state=42)"
   ]
  },
  {
   "cell_type": "code",
   "execution_count": null,
   "id": "950deb8a-23f9-42e0-9369-bc0f59ad5ca2",
   "metadata": {},
   "outputs": [],
   "source": [
    "# Initialize and fit the model\n",
    "rf_model = RandomForestRegressor(n_estimators=100, random_state=42)\n",
    "rf_model.fit(X_train, y_train)\n",
    "\n",
    "# Initialize and fit the model using Decision Tree\n",
    "# dt_model = DecisionTreeRegressor(random_state=42)\n",
    "# dt_model.fit(X_train, y_train)"
   ]
  },
  {
   "cell_type": "code",
   "execution_count": null,
   "id": "404bb44c-66e8-47d6-b0a2-8f406247b233",
   "metadata": {},
   "outputs": [],
   "source": [
    "# Get feature importance\n",
    "importances = rf_model.feature_importances_\n",
    "\n",
    "# Create a DataFrame for better visualization\n",
    "feature_importance_df = pd.DataFrame({\n",
    "    'Feature': X4.columns,\n",
    "    'Importance': importances\n",
    "}).sort_values(by='Importance', ascending=False)\n",
    "\n",
    "print(feature_importance_df)"
   ]
  },
  {
   "cell_type": "code",
   "execution_count": null,
   "id": "98c7afed-4216-433f-8480-d322984a0d3f",
   "metadata": {},
   "outputs": [],
   "source": []
  },
  {
   "cell_type": "code",
   "execution_count": null,
   "id": "f6c78628-b9e5-48c3-906d-9665c5905c7c",
   "metadata": {},
   "outputs": [],
   "source": [
    "# Plotting feature importance\n",
    "plt.figure(figsize=(5, 4))\n",
    "sns.barplot(x='Importance', y='Feature', data=feature_importance_df, hue='Importance')\n",
    "plt.legend(bbox_to_anchor=(1.02, 1), loc='upper left', borderaxespad=0)\n",
    "plt.title('Feature Importance from Random Forest')\n",
    "plt.show()"
   ]
  },
  {
   "cell_type": "code",
   "execution_count": null,
   "id": "0537c595-c7d1-4580-b050-e701e6ede3bf",
   "metadata": {},
   "outputs": [],
   "source": []
  },
  {
   "cell_type": "code",
   "execution_count": null,
   "id": "f84bc908-d0ad-4792-821c-6c36538a3e15",
   "metadata": {},
   "outputs": [],
   "source": []
  },
  {
   "cell_type": "code",
   "execution_count": null,
   "id": "d0ef714d-4625-4b73-bab6-75c2d88baa09",
   "metadata": {},
   "outputs": [],
   "source": []
  },
  {
   "cell_type": "markdown",
   "id": "ebc8912f-8bca-4930-b59c-319be40a38c6",
   "metadata": {},
   "source": [
    "<h4>Non Parametric Test for Difference</h4>"
   ]
  },
  {
   "cell_type": "code",
   "execution_count": null,
   "id": "4c8e1ccd-9dab-43ce-b283-71adfee40239",
   "metadata": {},
   "outputs": [],
   "source": []
  },
  {
   "cell_type": "code",
   "execution_count": null,
   "id": "e6de6718-8ab1-4e90-99c2-a54592d7f24e",
   "metadata": {},
   "outputs": [],
   "source": [
    "# Perform Kruskal-Wallis test\n",
    "\n",
    "jobs = df['Renewable Energy Jobs'].to_list()\n",
    "ii = df['Innovation Index'].to_list()\n",
    "ir = df['Industrialization Rate'].to_list()\n",
    "gdp = df['GDP'].to_list()\n",
    "prod = df['Production (GWh)'].to_list()\n",
    "\n",
    "stat, p = stats.kruskal(jobs, ii, ir, gdp, prod)\n",
    "print(f'Kruskal-Wallis H-statistic: {stat}, p-value: {p}')\n"
   ]
  },
  {
   "cell_type": "code",
   "execution_count": null,
   "id": "52c55a0e-1412-4bb7-b120-4b5e037a3cc1",
   "metadata": {},
   "outputs": [],
   "source": []
  },
  {
   "cell_type": "code",
   "execution_count": null,
   "id": "789cfeef-9a79-49e0-a657-3338b54ea1db",
   "metadata": {},
   "outputs": [],
   "source": [
    "# Dunn's Post-Hoc Test after Kruskal\n",
    "dunn_list = [jobs, ii, ir, gdp, prod]\n",
    "dunn_result = sp.posthoc_dunn(dunn_list, p_adjust='bonferroni') # or holm\n",
    "print(dunn_result)"
   ]
  },
  {
   "cell_type": "code",
   "execution_count": null,
   "id": "fd8a001d-1796-4085-b966-2381ce9b6a34",
   "metadata": {},
   "outputs": [],
   "source": []
  },
  {
   "cell_type": "code",
   "execution_count": null,
   "id": "d518e94b-b98b-45be-8dd8-52cabcad66f2",
   "metadata": {},
   "outputs": [],
   "source": []
  },
  {
   "cell_type": "code",
   "execution_count": null,
   "id": "153dd0b2-8e8e-4a79-a907-c015aa8d734f",
   "metadata": {},
   "outputs": [],
   "source": []
  }
 ],
 "metadata": {
  "kernelspec": {
   "display_name": "Python 3 (ipykernel)",
   "language": "python",
   "name": "python3"
  },
  "language_info": {
   "codemirror_mode": {
    "name": "ipython",
    "version": 3
   },
   "file_extension": ".py",
   "mimetype": "text/x-python",
   "name": "python",
   "nbconvert_exporter": "python",
   "pygments_lexer": "ipython3",
   "version": "3.9.6"
  }
 },
 "nbformat": 4,
 "nbformat_minor": 5
}
